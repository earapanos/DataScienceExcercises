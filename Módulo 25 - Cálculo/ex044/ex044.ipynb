{
 "cells": [
  {
   "cell_type": "markdown",
   "id": "9fcd899d",
   "metadata": {},
   "source": [
    "[![ebac_logo-data_science.png](https://raw.githubusercontent.com/earapanos/DataScienceExcercises/refs/heads/main/ebac_logo-data_science.png)](https://github.com/earapanos/DataScienceExcercises/tree/main)\n",
    "<!-- <img src=\"https://raw.githubusercontent.com/earapanos/DataScienceExcercises/refs/heads/main/ebac_logo-data_science.png\" alt=\"ebac_logo-data_science\"> -->\n",
    "\n",
    "---\n",
    "\n",
    "<!-- # **Profissão: Cientista de Dados** -->\n",
    "### **Módulo 25** | Cálculo | Exercício 44\n",
    "\n",
    "**Aluno:** [Eduardo Adriani Rapanos](https://www.linkedin.com/in/eduardo-rapanos/)<br>\n",
    "**Data:** 07 de abril de 2025.\n",
    "\n",
    "---"
   ]
  },
  {
   "cell_type": "markdown",
   "id": "43cb6e2c",
   "metadata": {},
   "source": [
    "# Cálculo - Tarefa 01"
   ]
  },
  {
   "cell_type": "markdown",
   "id": "979dcc2c",
   "metadata": {},
   "source": [
    "## 1. Marque quais desses métodos/algoritmos muito populares em ciência de dados são baseados no uso de derivada:\n",
    "\n",
    "**Métodos listados:**\n",
    "\n",
    "1. Método Mínimos Quadrados  \n",
    "2. Gradiente descendente  \n",
    "3. Newton Raphson  \n",
    "4. CART (Árvore de decisão)\n",
    "\n",
    "**Resposta correta:**\n",
    "\n",
    "- **Gradiente Descendente**  \n",
    "- **Newton-Raphson**\n",
    "\n",
    "**Justificativa:**\n",
    "\n",
    "- O **Método dos Mínimos Quadrados** não é baseado no uso de derivadas. Ele é utilizado para ajustar modelos de regressão minimizando a soma dos quadrados dos resíduos, sem a necessidade de cálculos diferenciais.\n",
    "- O **Gradiente Descendente** é um algoritmo de otimização que utiliza o cálculo do gradiente (derivadas parciais) para encontrar o mínimo de uma função. É amplamente utilizado em aprendizado de máquina.\n",
    "- O **Newton-Raphson** também se baseia em derivadas para encontrar raízes de funções e é comum em otimização e estimação de parâmetros.\n",
    "- O **CART (Árvore de Decisão)** não utiliza derivadas em seu funcionamento, baseando-se em critérios como pureza das classes e redução do erro."
   ]
  },
  {
   "cell_type": "markdown",
   "id": "380a4f9c",
   "metadata": {},
   "source": [
    "## 2. Sobre estimadores de mínimos quadrados e erro quadrático médio (EQM)\n"
   ]
  },
  {
   "cell_type": "markdown",
   "id": "6f9e612c",
   "metadata": {},
   "source": [
    "**Pergunta:**\n",
    "\n",
    "Dada uma base de dados com uma variável resposta *y* e um conjunto de variáveis explicativas, considere um modelo de regressão. Explique por que não é possível obter parâmetros que forneçam um erro quadrático médio (EQM) menor que o obtido com estimadores de mínimos quadrados.\n",
    "\n",
    "**Resposta:**\n",
    "\n",
    "Ao utilizar um modelo de regressão para prever a variável resposta a partir das variáveis explicativas, os estimadores de mínimos quadrados minimizam o erro quadrático médio (EQM) dentro da amostra de dados. Isso significa que, para os dados disponíveis, não existem outros estimadores que forneçam um EQM menor.\n",
    "\n",
    "Tentar forçar ajustes melhores pode levar ao **overfitting**, quando o modelo se ajusta demais aos dados, perdendo a capacidade de generalização. Com isso, o modelo pode prever pior para novos dados, mesmo que pareça ótimo na amostra usada para treinamento.\n",
    "\n",
    "Portanto, o método dos mínimos quadrados oferece o menor EQM possível dentro da amostra, e outros estimadores só superariam esse desempenho ao custo de uma pior generalização."
   ]
  },
  {
   "cell_type": "markdown",
   "id": "1de63679",
   "metadata": {},
   "source": []
  }
 ],
 "metadata": {
  "language_info": {
   "name": "python"
  }
 },
 "nbformat": 4,
 "nbformat_minor": 5
}
