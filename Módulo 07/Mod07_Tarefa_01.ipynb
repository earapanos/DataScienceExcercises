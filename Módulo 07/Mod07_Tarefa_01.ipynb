{
  "cells": [
    {
      "cell_type": "markdown",
      "metadata": {
        "id": "d8yCrvnM_2sd"
      },
      "source": [
        "# Módulo 07, Tarefa 01\n",
        "\n",
        "Vamos começar a mexer na nossa base de projeto? Já fizemos um exercício de montar a variável resposta, já pudemos perceber que essa atividade pode não ser trivial. Vamos agora trabalhar a base para que fique propícia ao *scikitlearn* para trabalharmos.\n",
        "\n",
        "Lembrando, a base se chama demo01.csv, e originalmente está publicada [aqui](https://www.kaggle.com/rikdifos/credit-card-approval-prediction)."
      ]
    },
    {
      "cell_type": "markdown",
      "metadata": {
        "id": "hcMBVVE8_2sg"
      },
      "source": [
        "#### 1) Carregue a base e avalie:\n",
        "\n",
        "- As variáveis\n",
        "- Tipos de dados de cada variável\n",
        "- Quantidade de missings\n",
        "- Distribuição da variável resposta (mau)"
      ]
    },
    {
      "cell_type": "code",
      "execution_count": null,
      "metadata": {
        "id": "jfUxW_PX_2sh"
      },
      "outputs": [],
      "source": []
    },
    {
      "cell_type": "markdown",
      "metadata": {
        "id": "_v0f02mE_2si"
      },
      "source": [
        "#### 2) Vamos montar um metadados\n",
        "\n",
        "1. Crie um dataframe com os nomes de cada variável e o tipo de dados de cada variável.\n",
        "2. Adicione uma coluna nesse *dataframe* chamada \"qtd_categorias\" e coloque nela o número de categorias correspondente de cada variável.\n",
        "    Dica:\n",
        "        1. inicie uma lista vazia\n",
        "        2. faça um for ao longo dos nomes das variáveis,\n",
        "        3. conte o número de categorias dessa variável\n",
        "        4. acumule essa informação de 3. na lista que você criou em 1.\n",
        "        5. No final, essa lista pode ser atribuída à nossa variável."
      ]
    },
    {
      "cell_type": "code",
      "execution_count": null,
      "metadata": {
        "id": "gNF5BRdA_2si"
      },
      "outputs": [],
      "source": []
    },
    {
      "cell_type": "markdown",
      "metadata": {
        "id": "h0XKJFhY_2si"
      },
      "source": [
        "#### 3) Crie variáveis dummy para as variáveis necessárias (i.e. aquelas que são qualitativas e não estão armazenadas como {0, 1} ou {True, False}. Crie um *dataframe* apenas com as variáveis apropriadas para entrada no scikitlearn - elimine as variáveis tipo *str*, mantendo apenas suas versões *dummy*."
      ]
    },
    {
      "cell_type": "code",
      "execution_count": null,
      "metadata": {
        "id": "ePbdZDOi_2sj"
      },
      "outputs": [],
      "source": []
    },
    {
      "cell_type": "markdown",
      "metadata": {
        "id": "uhaqFcPE_2sj"
      },
      "source": [
        "#### 4) Qual variável é mais poderosa?\n",
        "\n",
        "Considere as variáveis ```possui_email``` e ```posse_de_veiculo```. Faça uma tabela cruzada entre elas e responda qual delas te parece mais poderosa para prever a probabilidade de ```mau = 1```?"
      ]
    },
    {
      "cell_type": "code",
      "execution_count": null,
      "metadata": {
        "id": "3wUAHc_-_2sj"
      },
      "outputs": [],
      "source": []
    },
    {
      "cell_type": "markdown",
      "metadata": {
        "id": "G2Issl2e_2sj"
      },
      "source": [
        "#### 5) Salve a base, pois ela será utilizada no final deste módulo."
      ]
    },
    {
      "cell_type": "code",
      "execution_count": null,
      "metadata": {
        "id": "KSEj8OL9_2sk"
      },
      "outputs": [],
      "source": []
    }
  ],
  "metadata": {
    "kernelspec": {
      "display_name": "Python 3",
      "language": "python",
      "name": "python3"
    },
    "language_info": {
      "codemirror_mode": {
        "name": "ipython",
        "version": 3
      },
      "file_extension": ".py",
      "mimetype": "text/x-python",
      "name": "python",
      "nbconvert_exporter": "python",
      "pygments_lexer": "ipython3",
      "version": "3.8.5"
    },
    "colab": {
      "provenance": []
    }
  },
  "nbformat": 4,
  "nbformat_minor": 0
}