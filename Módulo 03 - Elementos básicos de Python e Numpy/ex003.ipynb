{
 "cells": [
  {
   "cell_type": "markdown",
   "id": "1c9cc14a",
   "metadata": {},
   "source": [
    "### 01 - Teste de gravidez\n",
    "Escreva uma célula com controle de fluxos que tem como premissa a existência das seguintes variáveis:\n",
    "\n",
    "- ```sexo``` como ```str``` indicando os valores '**M**' para masculino e '**F**' para feminino  \n",
    "- ```beta_hcg``` que indica a quantidade do beta-HCG no sangue em mUI/mL.\n",
    "\n",
    "A sua tarefa é escrever um código que imprima como resultado \"indivíduo do sexo masculino\" quando sexo = 'M', caso sexo = 'F', se o valor de beta-HCG for maior que 5, retorne \"Positivo\" indicando que a paciente está grávida, e retorne \"Negativo\" caso contrário.\n",
    "\n",
    "Não mexa nos valores da variável ```sexo``` nem em ```beta_hcg```, e escreva um código que funcione para quaisquer valores possíveis de ambos: ```sexo``` = '**M**' ou '**F**' e ```beta_hcg``` assumindo valores inteiros positivos."
   ]
  },
  {
   "cell_type": "code",
   "execution_count": 10,
   "id": "4de86f85",
   "metadata": {},
   "outputs": [
    {
     "name": "stdout",
     "output_type": "stream",
     "text": [
      "Positivo\n"
     ]
    }
   ],
   "source": [
    "sexo = 'F'\n",
    "beta_hcg = 5.1\n",
    "\n",
    "# seu código vem abaixo desta linha\n",
    "\n",
    "if sexo == 'M':\n",
    "    print('Indivíduo do Sexo Masculino')\n",
    "elif sexo == 'F' and beta_hcg <= 5:\n",
    "    print('Negativo')\n",
    "else:\n",
    "    print('Positivo')"
   ]
  },
  {
   "cell_type": "markdown",
   "id": "7bf178bb",
   "metadata": {},
   "source": [
    "### 02 - Renomeando variáveis\n",
    "\n",
    "Vamos ver adiante que uma forma de renomear variáveis de um conjunto de dados é através de dicionários - o dicionário deve conter como chave o nome original, associando a cada chave um único valor (tipo *str*) que contenha o nome novo.\n",
    "\n",
    "A sua tarefa é escrever um dicionário que possa ser utilizado para traduzir as variáveis ```name``` (nome), ```age``` (idade) e ```income``` (renda). Ou seja, esse dicionário deve relacionar as chaves *name, age* e *income* às suas respectivas traduções.\n"
   ]
  },
  {
   "cell_type": "code",
   "execution_count": 16,
   "id": "44041cdc",
   "metadata": {},
   "outputs": [
    {
     "name": "stdout",
     "output_type": "stream",
     "text": [
      "{'name': 'nome', 'age': 'idade', 'income': 'renda'}\n"
     ]
    }
   ],
   "source": [
    "dic_renomeacao = {'name': 'Eduardo', 'age': 29, 'income': 4100}\n",
    "dic_renomeacao = {'name':'nome', 'age':'idade', 'income':'renda'}\n",
    "print(dic_renomeacao)"
   ]
  },
  {
   "cell_type": "markdown",
   "id": "f1aa7626",
   "metadata": {},
   "source": [
    "### 03 - É divisível?\n",
    "A sua tarefa é escrever um código que indique se um número ```N``` é divisível por um número P. Escreva um programa que faça essa verificação para quaisquer combinações de ```N``` e ```M``` e devolva uma mensagem indicativa no output."
   ]
  },
  {
   "cell_type": "code",
   "execution_count": 21,
   "id": "6be26218",
   "metadata": {},
   "outputs": [],
   "source": [
    "N = 42\n",
    "M = 8\n",
    "\n",
    "#Seu código\n"
   ]
  },
  {
   "cell_type": "code",
   "execution_count": 22,
   "id": "5df57066",
   "metadata": {},
   "outputs": [
    {
     "name": "stdout",
     "output_type": "stream",
     "text": [
      "42 não é divisível por 8.\n"
     ]
    }
   ],
   "source": [
    "if N % M == 0:\n",
    "    print(f'{N} é divisível por {M}.')\n",
    "else:\n",
    "    print(f'{N} não é divisível por {M}.')"
   ]
  },
  {
   "cell_type": "markdown",
   "id": "c5921ee4",
   "metadata": {},
   "source": [
    "### 04 - Números primos\n",
    "> Um número **N** é primo se e somente se é divisível por 1, -1, por **N** e por -**N**.  \n",
    "\n",
    "Escreva um script que verifica se ```N``` é um número primo, verificando se ```N``` é divisível por todos os números de ```1``` a ```N-1```. Você vai precisar usar alguma ferramenta de *loop* que você aprendeu para isto. No final, devolva uma mensagem no output indicando se o número é primo ou não."
   ]
  },
  {
   "cell_type": "code",
   "execution_count": 26,
   "id": "239568d1",
   "metadata": {},
   "outputs": [],
   "source": [
    "N = 47\n",
    "\n",
    "# seu código abaixo"
   ]
  },
  {
   "cell_type": "code",
   "execution_count": 30,
   "id": "175d3dc1",
   "metadata": {},
   "outputs": [
    {
     "name": "stdout",
     "output_type": "stream",
     "text": [
      "50 não é um número primo.\n"
     ]
    }
   ],
   "source": [
    "def eh_primo(N):\n",
    "    if N <= 1:\n",
    "        return False\n",
    "    for i in range(2, N):\n",
    "        if N % i == 0:\n",
    "            return False\n",
    "    return True\n",
    "\n",
    "# Exemplo de uso\n",
    "N = 50\n",
    "if eh_primo(N):\n",
    "    print(f'{N} é um número primo.')\n",
    "else:\n",
    "    print(f'{N} não é um número primo.')\n"
   ]
  },
  {
   "cell_type": "markdown",
   "id": "e6293cf1",
   "metadata": {},
   "source": [
    "### 05 - Desafio\n",
    "O algorítmo do exercício anterior não é o mais eficiente. O que você pode fazer para deixá-lo mais eficiente? Ou seja, executar menos comparações, portanto consumir menos tempo.\n",
    "1. Será que precisamos correr o loop até o final sempre?\n",
    "2. Será que precisamos mesmo verificar **todos** os números?\n",
    "3. Será que precisamos ir até N-1?\n",
    "\n",
    "Essas perguntas levam ao tipo de pensamento voltado a deixar um algoritmo mais eficiente. Veja se você consegue melhorar o seu."
   ]
  },
  {
   "cell_type": "code",
   "execution_count": 31,
   "id": "b9d14b9f",
   "metadata": {},
   "outputs": [
    {
     "name": "stdout",
     "output_type": "stream",
     "text": [
      "29 é um número primo.\n"
     ]
    }
   ],
   "source": [
    "def eh_primo(N):\n",
    "    if N <= 1:\n",
    "        return False\n",
    "    if N == 2:\n",
    "        return True\n",
    "    if N % 2 == 0:\n",
    "        return False\n",
    "    for i in range(3, int(N**0.5) + 1, 2):\n",
    "        if N % i == 0:\n",
    "            return False\n",
    "    return True\n",
    "\n",
    "# Exemplo de uso\n",
    "N = 29\n",
    "if eh_primo(N):\n",
    "    print(f'{N} é um número primo.')\n",
    "else:\n",
    "    print(f'{N} não é um número primo.')\n"
   ]
  },
  {
   "cell_type": "markdown",
   "id": "7ef19c40",
   "metadata": {},
   "source": [
    "### 06 - Peso ideal 1\n",
    "O IMC (índice de massa corpórea) é um indicador de saúde mais bem aceito que o peso. Ele é calculado como:\n",
    "\n",
    "$$ IMC = \\dfrac{peso}{altura^2}$$\n",
    "\n",
    "Segundo a OMS, valores *normais* são entre 18.5 e 24.9.\n",
    "\n",
    "Sua tarefa é encontrar o ponto médio dessa faixa."
   ]
  },
  {
   "cell_type": "code",
   "execution_count": 33,
   "id": "bd84b5f8",
   "metadata": {},
   "outputs": [
    {
     "name": "stdout",
     "output_type": "stream",
     "text": [
      "O ponto médio de IMC é 21.7.\n"
     ]
    }
   ],
   "source": [
    "# Sua tarefa é encontrar o ponto médio dessa faixa.\n",
    "\n",
    "imc_max = 24.9\n",
    "imc_min = 18.5\n",
    "\n",
    "media = (imc_max + imc_min) / 2\n",
    "\n",
    "print(f'O ponto médio de IMC é {media}.')"
   ]
  },
  {
   "cell_type": "markdown",
   "id": "640c2b0f",
   "metadata": {},
   "source": [
    "### 07 - Peso ideal 2\n",
    "Recebendo um valor de altura, encontre o peso '*ideal*' dessa pessoa, que fornece o IMC encontrado acima"
   ]
  },
  {
   "cell_type": "code",
   "execution_count": 38,
   "id": "cb3d7f67",
   "metadata": {},
   "outputs": [
    {
     "name": "stdout",
     "output_type": "stream",
     "text": [
      "O peso ideal para a pessoa é 62.712999999999994 kg.\n"
     ]
    }
   ],
   "source": [
    "altura = 1.7\n",
    "\n",
    "peso_ideal = media * (altura ** 2)\n",
    "\n",
    "print(f'O peso ideal para a pessoa é {peso_ideal} kg.')"
   ]
  },
  {
   "cell_type": "markdown",
   "id": "e8b5d516",
   "metadata": {},
   "source": [
    "### 08 - Peso ideal 3\n",
    "Dada uma lista contendo as alturas de pacientes, crie uma nova lista que contenha o peso '*ideal*' (que fornece o IMC calculado em **Peso ideal 1**) desses pacientes."
   ]
  },
  {
   "cell_type": "code",
   "execution_count": 45,
   "id": "5489b6a0",
   "metadata": {},
   "outputs": [
    {
     "name": "stdout",
     "output_type": "stream",
     "text": [
      "[82.51424999999999, 91.19425, 62.712999999999994]\n"
     ]
    }
   ],
   "source": [
    "lista_alturas = [1.95, 2.05, 1.70, 1.65]\n",
    "\n",
    "lista_peso_ideal = []\n",
    "\n",
    "# seu código\n",
    "\n",
    "peso_ideal0 = media * (lista_alturas[0] **2)\n",
    "peso_ideal1 = media * (lista_alturas[1] **2)\n",
    "peso_ideal2 = media * (lista_alturas[2] **2)\n",
    "\n",
    "lista_peso_ideal.append(peso_ideal0)\n",
    "lista_peso_ideal.append(peso_ideal1)\n",
    "lista_peso_ideal.append(peso_ideal2)\n",
    "\n",
    "print(lista_peso_ideal)"
   ]
  },
  {
   "cell_type": "markdown",
   "id": "f2140ea6",
   "metadata": {},
   "source": [
    "### 09 - Peso ideal 4\n",
    "Dada uma lista de tuplas - cada elemento da lista é uma tupla contendo altura e peso de um paciente - crie uma nova lista com o IMC desses pacientes."
   ]
  },
  {
   "cell_type": "code",
   "execution_count": 63,
   "id": "d22dc41c",
   "metadata": {},
   "outputs": [
    {
     "name": "stdout",
     "output_type": "stream",
     "text": [
      "(1.8, 90) (1.65, 75) (1.91, 70)\n",
      "O IMC do elemento 1 é: 27.777777777777775;\n",
      "O IMC do elemento 2 é: 27.548209366391188;\n",
      "O IMC do elemento 3 é: 19.188070502453332.\n"
     ]
    }
   ],
   "source": [
    "altura_peso = [(1.80, 90), (1.65, 75), (1.91, 70)]\n",
    "\n",
    "imc = []\n",
    "\n",
    "# seu código\n",
    "\n",
    "tpl0 = altura_peso[0]\n",
    "tpl1 = altura_peso[1]\n",
    "tpl2 = altura_peso[2]\n",
    "\n",
    "print(tpl0, tpl1, tpl2)\n",
    "\n",
    "imc1 = tpl0[1] / (tpl0[0] ** 2)\n",
    "imc2 = tpl1[1] / (tpl1[0] ** 2)\n",
    "imc3 = tpl2[1] / (tpl2[0] ** 2)\n",
    "\n",
    "print(f'O IMC do elemento 1 é: {imc1};\\n'\n",
    "f'O IMC do elemento 2 é: {imc2};\\n'\n",
    "f'O IMC do elemento 3 é: {imc3}.')"
   ]
  },
  {
   "cell_type": "markdown",
   "id": "d24f6bba",
   "metadata": {},
   "source": [
    "### 10 - Peso ideal 5\n",
    "Dada uma lista de **listas** - cada elemento da lista é uma **lista** contendo altura e peso de um paciente, adicione mais um elemento à lista de cada paciente contendo o IMC do paciente. Verifique também se é 'baixo', 'normal' ou 'alto' segundo os padrões da OMS em que normal é entre 18.5 e 24.9.\n",
    "\n",
    "Reflexão: por que no problema anterior temos que criar uma nova lista, e não podemos adicionar os dados de cada indivíduo à tupla?"
   ]
  },
  {
   "cell_type": "code",
   "execution_count": 65,
   "id": "e20caf43",
   "metadata": {},
   "outputs": [
    {
     "data": {
      "text/plain": [
       "[[1.8, 90], [1.65, 75], [1.91, 70]]"
      ]
     },
     "execution_count": 65,
     "metadata": {},
     "output_type": "execute_result"
    }
   ],
   "source": [
    "altura_peso = [[1.80, 90], [1.65, 75], [1.91, 70]]\n",
    "\n",
    "# seu código\n",
    "\n",
    "altura_peso"
   ]
  },
  {
   "cell_type": "code",
   "execution_count": 66,
   "id": "6ec3f182",
   "metadata": {},
   "outputs": [
    {
     "name": "stdout",
     "output_type": "stream",
     "text": [
      "[[1.8, 90, 27.777777777777775, 'alto'], [1.65, 75, 27.548209366391188, 'alto'], [1.91, 70, 19.188070502453332, 'normal']]\n"
     ]
    }
   ],
   "source": [
    "altura_peso = [[1.80, 90], [1.65, 75], [1.91, 70]]\n",
    "\n",
    "for paciente in altura_peso:\n",
    "    altura, peso = paciente\n",
    "    imc = peso / altura ** 2\n",
    "    paciente.append(imc)\n",
    "    \n",
    "    if imc < 18.5:\n",
    "        paciente.append('baixo')\n",
    "    elif 18.5 <= imc <= 24.9:\n",
    "        paciente.append('normal')\n",
    "    else:\n",
    "        paciente.append('alto')\n",
    "\n",
    "print(altura_peso)\n"
   ]
  }
 ],
 "metadata": {
  "kernelspec": {
   "display_name": "Python 3 (ipykernel)",
   "language": "python",
   "name": "python3"
  },
  "language_info": {
   "codemirror_mode": {
    "name": "ipython",
    "version": 3
   },
   "file_extension": ".py",
   "mimetype": "text/x-python",
   "name": "python",
   "nbconvert_exporter": "python",
   "pygments_lexer": "ipython3",
   "version": "3.11.7"
  }
 },
 "nbformat": 4,
 "nbformat_minor": 5
}
