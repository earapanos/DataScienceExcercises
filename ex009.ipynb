{
 "cells": [
  {
   "cell_type": "markdown",
   "metadata": {},
   "source": [
    "# Módulo 6 tarefa 3\n",
    "\n",
    "#### 1) A base 'sinasc_RO_2019.csv' contém dados do sistema de nascidos vivos do DataSUS, cujo dicionário de dados está no arquivo 'Estrutura_SINASC_para_CD.pdf'. Carregue esse arquivo."
   ]
  },
  {
   "cell_type": "code",
   "execution_count": 1,
   "metadata": {},
   "outputs": [],
   "source": [
    "# importando bibliotecas\n",
    "\n",
    "import pandas as pd\n",
    "import matplotlib.pyplot as plt\n",
    "import seaborn as sns\n",
    "import chardet\n",
    "%matplotlib inline\n",
    "# %matplotlib notebook"
   ]
  },
  {
   "cell_type": "code",
   "execution_count": 2,
   "metadata": {},
   "outputs": [
    {
     "name": "stdout",
     "output_type": "stream",
     "text": [
      "O encoding do arquivo é: utf-8\n"
     ]
    }
   ],
   "source": [
    "# 1. Identificação do encoding\n",
    "with open(r'C:\\Users\\earap\\Documents\\EBAC\\ciencia_dados\\006\\dados.csv', 'rb') as f:\n",
    "    result = chardet.detect(f.read())\n",
    "    \n",
    "encoding = result['encoding']\n",
    "print(f'O encoding do arquivo é: {encoding}')"
   ]
  },
  {
   "cell_type": "code",
   "execution_count": 3,
   "metadata": {},
   "outputs": [],
   "source": [
    "# 2. Leitura do arquivo CSV usando pandas\n",
    "df = pd.read_csv(r'C:\\Users\\earap\\Documents\\EBAC\\ciencia_dados\\006\\dados.csv', encoding=encoding)"
   ]
  },
  {
   "cell_type": "code",
   "execution_count": 4,
   "metadata": {},
   "outputs": [
    {
     "name": "stdout",
     "output_type": "stream",
     "text": [
      "O separador do arquivo é: ,\n",
      "O delimitador de células do arquivo é: \"\n"
     ]
    }
   ],
   "source": [
    "# 3. Identificação do separador e do delimitador de células\n",
    "with open(r'C:\\Users\\earap\\Documents\\EBAC\\ciencia_dados\\006\\dados.csv', 'r', encoding=encoding) as f:\n",
    "    first_line = f.readline().strip()  # Lê a primeira linha e remove espaços em branco\n",
    "    \n",
    "    # Verifica o separador mais comum\n",
    "    if ',' in first_line:\n",
    "        separator = ','\n",
    "    elif ';' in first_line:\n",
    "        separator = ';'\n",
    "    else:\n",
    "        separator = None\n",
    "    \n",
    "    # Verifica o delimitador de células\n",
    "    if '\"' in first_line:\n",
    "        delimiter = '\"'\n",
    "    else:\n",
    "        delimiter = None\n",
    "\n",
    "print(f'O separador do arquivo é: {separator}')\n",
    "print(f'O delimitador de células do arquivo é: {delimiter}')"
   ]
  },
  {
   "cell_type": "code",
   "execution_count": 5,
   "metadata": {},
   "outputs": [
    {
     "data": {
      "text/html": [
       "<div>\n",
       "<style scoped>\n",
       "    .dataframe tbody tr th:only-of-type {\n",
       "        vertical-align: middle;\n",
       "    }\n",
       "\n",
       "    .dataframe tbody tr th {\n",
       "        vertical-align: top;\n",
       "    }\n",
       "\n",
       "    .dataframe thead th {\n",
       "        text-align: right;\n",
       "    }\n",
       "</style>\n",
       "<table border=\"1\" class=\"dataframe\">\n",
       "  <thead>\n",
       "    <tr style=\"text-align: right;\">\n",
       "      <th></th>\n",
       "      <th>ORIGEM</th>\n",
       "      <th>CODESTAB</th>\n",
       "      <th>CODMUNNASC</th>\n",
       "      <th>LOCNASC</th>\n",
       "      <th>IDADEMAE</th>\n",
       "      <th>ESTCIVMAE</th>\n",
       "      <th>CODOCUPMAE</th>\n",
       "      <th>QTDFILVIVO</th>\n",
       "      <th>QTDFILMORT</th>\n",
       "      <th>CODMUNRES</th>\n",
       "      <th>...</th>\n",
       "      <th>STDNNOVA</th>\n",
       "      <th>CODPAISRES</th>\n",
       "      <th>TPROBSON</th>\n",
       "      <th>PARIDADE</th>\n",
       "      <th>KOTELCHUCK</th>\n",
       "      <th>CONTADOR</th>\n",
       "      <th>munResLat</th>\n",
       "      <th>munResLon</th>\n",
       "      <th>munResAlt</th>\n",
       "      <th>munResArea</th>\n",
       "    </tr>\n",
       "  </thead>\n",
       "  <tbody>\n",
       "    <tr>\n",
       "      <th>count</th>\n",
       "      <td>27028.0</td>\n",
       "      <td>2.691300e+04</td>\n",
       "      <td>27028.000000</td>\n",
       "      <td>27028.000000</td>\n",
       "      <td>27028.000000</td>\n",
       "      <td>26711.000000</td>\n",
       "      <td>24121.000000</td>\n",
       "      <td>25455.000000</td>\n",
       "      <td>24930.000000</td>\n",
       "      <td>27028.000000</td>\n",
       "      <td>...</td>\n",
       "      <td>27028.000000</td>\n",
       "      <td>27028.0</td>\n",
       "      <td>27028.000000</td>\n",
       "      <td>27028.000000</td>\n",
       "      <td>27028.000000</td>\n",
       "      <td>2.702800e+04</td>\n",
       "      <td>27027.000000</td>\n",
       "      <td>27027.000000</td>\n",
       "      <td>27027.000000</td>\n",
       "      <td>27027.000000</td>\n",
       "    </tr>\n",
       "    <tr>\n",
       "      <th>mean</th>\n",
       "      <td>1.0</td>\n",
       "      <td>3.267629e+06</td>\n",
       "      <td>111037.796211</td>\n",
       "      <td>1.011396</td>\n",
       "      <td>26.093718</td>\n",
       "      <td>2.545318</td>\n",
       "      <td>795604.031591</td>\n",
       "      <td>1.053899</td>\n",
       "      <td>0.266506</td>\n",
       "      <td>110029.055720</td>\n",
       "      <td>...</td>\n",
       "      <td>0.999778</td>\n",
       "      <td>1.0</td>\n",
       "      <td>4.328437</td>\n",
       "      <td>0.648772</td>\n",
       "      <td>4.974952</td>\n",
       "      <td>7.367650e+05</td>\n",
       "      <td>-10.377988</td>\n",
       "      <td>-62.754987</td>\n",
       "      <td>179.111999</td>\n",
       "      <td>14702.799767</td>\n",
       "    </tr>\n",
       "    <tr>\n",
       "      <th>std</th>\n",
       "      <td>0.0</td>\n",
       "      <td>1.122677e+06</td>\n",
       "      <td>18102.751466</td>\n",
       "      <td>0.161679</td>\n",
       "      <td>6.387094</td>\n",
       "      <td>1.671248</td>\n",
       "      <td>283884.959287</td>\n",
       "      <td>1.170874</td>\n",
       "      <td>0.613909</td>\n",
       "      <td>36.036466</td>\n",
       "      <td>...</td>\n",
       "      <td>0.014898</td>\n",
       "      <td>0.0</td>\n",
       "      <td>2.930690</td>\n",
       "      <td>0.477363</td>\n",
       "      <td>2.067085</td>\n",
       "      <td>7.430325e+05</td>\n",
       "      <td>1.372942</td>\n",
       "      <td>1.269490</td>\n",
       "      <td>123.138365</td>\n",
       "      <td>13706.177751</td>\n",
       "    </tr>\n",
       "    <tr>\n",
       "      <th>min</th>\n",
       "      <td>1.0</td>\n",
       "      <td>1.531800e+04</td>\n",
       "      <td>110001.000000</td>\n",
       "      <td>1.000000</td>\n",
       "      <td>11.000000</td>\n",
       "      <td>1.000000</td>\n",
       "      <td>10205.000000</td>\n",
       "      <td>0.000000</td>\n",
       "      <td>0.000000</td>\n",
       "      <td>110000.000000</td>\n",
       "      <td>...</td>\n",
       "      <td>0.000000</td>\n",
       "      <td>1.0</td>\n",
       "      <td>1.000000</td>\n",
       "      <td>0.000000</td>\n",
       "      <td>1.000000</td>\n",
       "      <td>1.000000e+00</td>\n",
       "      <td>-13.499760</td>\n",
       "      <td>-65.329150</td>\n",
       "      <td>85.000000</td>\n",
       "      <td>459.978000</td>\n",
       "    </tr>\n",
       "    <tr>\n",
       "      <th>25%</th>\n",
       "      <td>1.0</td>\n",
       "      <td>2.496534e+06</td>\n",
       "      <td>110011.000000</td>\n",
       "      <td>1.000000</td>\n",
       "      <td>21.000000</td>\n",
       "      <td>1.000000</td>\n",
       "      <td>521125.000000</td>\n",
       "      <td>0.000000</td>\n",
       "      <td>0.000000</td>\n",
       "      <td>110012.000000</td>\n",
       "      <td>...</td>\n",
       "      <td>1.000000</td>\n",
       "      <td>1.0</td>\n",
       "      <td>2.000000</td>\n",
       "      <td>0.000000</td>\n",
       "      <td>4.000000</td>\n",
       "      <td>6.802750e+03</td>\n",
       "      <td>-11.433870</td>\n",
       "      <td>-63.831450</td>\n",
       "      <td>87.000000</td>\n",
       "      <td>3792.998000</td>\n",
       "    </tr>\n",
       "    <tr>\n",
       "      <th>50%</th>\n",
       "      <td>1.0</td>\n",
       "      <td>2.798484e+06</td>\n",
       "      <td>110020.000000</td>\n",
       "      <td>1.000000</td>\n",
       "      <td>26.000000</td>\n",
       "      <td>2.000000</td>\n",
       "      <td>999992.000000</td>\n",
       "      <td>1.000000</td>\n",
       "      <td>0.000000</td>\n",
       "      <td>110020.000000</td>\n",
       "      <td>...</td>\n",
       "      <td>1.000000</td>\n",
       "      <td>1.0</td>\n",
       "      <td>4.000000</td>\n",
       "      <td>1.000000</td>\n",
       "      <td>5.000000</td>\n",
       "      <td>1.364550e+04</td>\n",
       "      <td>-10.435950</td>\n",
       "      <td>-63.033270</td>\n",
       "      <td>153.000000</td>\n",
       "      <td>6896.648000</td>\n",
       "    </tr>\n",
       "    <tr>\n",
       "      <th>75%</th>\n",
       "      <td>1.0</td>\n",
       "      <td>3.970442e+06</td>\n",
       "      <td>110020.000000</td>\n",
       "      <td>1.000000</td>\n",
       "      <td>31.000000</td>\n",
       "      <td>5.000000</td>\n",
       "      <td>999992.000000</td>\n",
       "      <td>2.000000</td>\n",
       "      <td>0.000000</td>\n",
       "      <td>110028.000000</td>\n",
       "      <td>...</td>\n",
       "      <td>1.000000</td>\n",
       "      <td>1.0</td>\n",
       "      <td>5.000000</td>\n",
       "      <td>1.000000</td>\n",
       "      <td>5.000000</td>\n",
       "      <td>1.486846e+06</td>\n",
       "      <td>-8.768890</td>\n",
       "      <td>-61.945090</td>\n",
       "      <td>191.000000</td>\n",
       "      <td>34096.394000</td>\n",
       "    </tr>\n",
       "    <tr>\n",
       "      <th>max</th>\n",
       "      <td>1.0</td>\n",
       "      <td>9.659366e+06</td>\n",
       "      <td>520870.000000</td>\n",
       "      <td>4.000000</td>\n",
       "      <td>53.000000</td>\n",
       "      <td>9.000000</td>\n",
       "      <td>999994.000000</td>\n",
       "      <td>30.000000</td>\n",
       "      <td>28.000000</td>\n",
       "      <td>110180.000000</td>\n",
       "      <td>...</td>\n",
       "      <td>1.000000</td>\n",
       "      <td>1.0</td>\n",
       "      <td>11.000000</td>\n",
       "      <td>1.000000</td>\n",
       "      <td>9.000000</td>\n",
       "      <td>2.780269e+06</td>\n",
       "      <td>-8.768890</td>\n",
       "      <td>-60.138580</td>\n",
       "      <td>595.000000</td>\n",
       "      <td>34096.394000</td>\n",
       "    </tr>\n",
       "  </tbody>\n",
       "</table>\n",
       "<p>8 rows × 54 columns</p>\n",
       "</div>"
      ],
      "text/plain": [
       "        ORIGEM      CODESTAB     CODMUNNASC       LOCNASC      IDADEMAE  \\\n",
       "count  27028.0  2.691300e+04   27028.000000  27028.000000  27028.000000   \n",
       "mean       1.0  3.267629e+06  111037.796211      1.011396     26.093718   \n",
       "std        0.0  1.122677e+06   18102.751466      0.161679      6.387094   \n",
       "min        1.0  1.531800e+04  110001.000000      1.000000     11.000000   \n",
       "25%        1.0  2.496534e+06  110011.000000      1.000000     21.000000   \n",
       "50%        1.0  2.798484e+06  110020.000000      1.000000     26.000000   \n",
       "75%        1.0  3.970442e+06  110020.000000      1.000000     31.000000   \n",
       "max        1.0  9.659366e+06  520870.000000      4.000000     53.000000   \n",
       "\n",
       "          ESTCIVMAE     CODOCUPMAE    QTDFILVIVO    QTDFILMORT      CODMUNRES  \\\n",
       "count  26711.000000   24121.000000  25455.000000  24930.000000   27028.000000   \n",
       "mean       2.545318  795604.031591      1.053899      0.266506  110029.055720   \n",
       "std        1.671248  283884.959287      1.170874      0.613909      36.036466   \n",
       "min        1.000000   10205.000000      0.000000      0.000000  110000.000000   \n",
       "25%        1.000000  521125.000000      0.000000      0.000000  110012.000000   \n",
       "50%        2.000000  999992.000000      1.000000      0.000000  110020.000000   \n",
       "75%        5.000000  999992.000000      2.000000      0.000000  110028.000000   \n",
       "max        9.000000  999994.000000     30.000000     28.000000  110180.000000   \n",
       "\n",
       "       ...      STDNNOVA  CODPAISRES      TPROBSON      PARIDADE  \\\n",
       "count  ...  27028.000000     27028.0  27028.000000  27028.000000   \n",
       "mean   ...      0.999778         1.0      4.328437      0.648772   \n",
       "std    ...      0.014898         0.0      2.930690      0.477363   \n",
       "min    ...      0.000000         1.0      1.000000      0.000000   \n",
       "25%    ...      1.000000         1.0      2.000000      0.000000   \n",
       "50%    ...      1.000000         1.0      4.000000      1.000000   \n",
       "75%    ...      1.000000         1.0      5.000000      1.000000   \n",
       "max    ...      1.000000         1.0     11.000000      1.000000   \n",
       "\n",
       "         KOTELCHUCK      CONTADOR     munResLat     munResLon     munResAlt  \\\n",
       "count  27028.000000  2.702800e+04  27027.000000  27027.000000  27027.000000   \n",
       "mean       4.974952  7.367650e+05    -10.377988    -62.754987    179.111999   \n",
       "std        2.067085  7.430325e+05      1.372942      1.269490    123.138365   \n",
       "min        1.000000  1.000000e+00    -13.499760    -65.329150     85.000000   \n",
       "25%        4.000000  6.802750e+03    -11.433870    -63.831450     87.000000   \n",
       "50%        5.000000  1.364550e+04    -10.435950    -63.033270    153.000000   \n",
       "75%        5.000000  1.486846e+06     -8.768890    -61.945090    191.000000   \n",
       "max        9.000000  2.780269e+06     -8.768890    -60.138580    595.000000   \n",
       "\n",
       "         munResArea  \n",
       "count  27027.000000  \n",
       "mean   14702.799767  \n",
       "std    13706.177751  \n",
       "min      459.978000  \n",
       "25%     3792.998000  \n",
       "50%     6896.648000  \n",
       "75%    34096.394000  \n",
       "max    34096.394000  \n",
       "\n",
       "[8 rows x 54 columns]"
      ]
     },
     "execution_count": 5,
     "metadata": {},
     "output_type": "execute_result"
    }
   ],
   "source": [
    "# aplicando o método describe para ver os dados\n",
    "df.describe()"
   ]
  },
  {
   "cell_type": "code",
   "execution_count": 6,
   "metadata": {},
   "outputs": [
    {
     "data": {
      "text/plain": [
       "Index(['ORIGEM', 'CODESTAB', 'CODMUNNASC', 'LOCNASC', 'IDADEMAE', 'ESTCIVMAE',\n",
       "       'ESCMAE', 'CODOCUPMAE', 'QTDFILVIVO', 'QTDFILMORT', 'CODMUNRES',\n",
       "       'GESTACAO', 'GRAVIDEZ', 'PARTO', 'CONSULTAS', 'DTNASC', 'HORANASC',\n",
       "       'SEXO', 'APGAR1', 'APGAR5', 'RACACOR', 'PESO', 'IDANOMAL', 'DTCADASTRO',\n",
       "       'CODANOMAL', 'NUMEROLOTE', 'VERSAOSIST', 'DTRECEBIM', 'DIFDATA',\n",
       "       'DTRECORIGA', 'NATURALMAE', 'CODMUNNATU', 'CODUFNATU', 'ESCMAE2010',\n",
       "       'SERIESCMAE', 'DTNASCMAE', 'RACACORMAE', 'QTDGESTANT', 'QTDPARTNOR',\n",
       "       'QTDPARTCES', 'IDADEPAI', 'DTULTMENST', 'SEMAGESTAC', 'TPMETESTIM',\n",
       "       'CONSPRENAT', 'MESPRENAT', 'TPAPRESENT', 'STTRABPART', 'STCESPARTO',\n",
       "       'TPNASCASSI', 'TPFUNCRESP', 'TPDOCRESP', 'DTDECLARAC', 'ESCMAEAGR1',\n",
       "       'STDNEPIDEM', 'STDNNOVA', 'CODPAISRES', 'TPROBSON', 'PARIDADE',\n",
       "       'KOTELCHUCK', 'CONTADOR', 'munResStatus', 'munResTipo', 'munResNome',\n",
       "       'munResUf', 'munResLat', 'munResLon', 'munResAlt', 'munResArea'],\n",
       "      dtype='object')"
      ]
     },
     "execution_count": 6,
     "metadata": {},
     "output_type": "execute_result"
    }
   ],
   "source": [
    "# aplicando o método columns para ver as colunas\n",
    "df.columns"
   ]
  },
  {
   "cell_type": "markdown",
   "metadata": {},
   "source": [
    "#### 2) Categorize a variável APGAR5 conforme as seguintes quebras:\n",
    "\n",
    "- 0 a 3: 'asfixia grave'\n",
    "- 4 a 5: 'asfixia moderada'\n",
    "- 6 a 7: 'asfixia leve'\n",
    "- 8 a 10: 'normal'"
   ]
  },
  {
   "cell_type": "code",
   "execution_count": 7,
   "metadata": {},
   "outputs": [
    {
     "name": "stdout",
     "output_type": "stream",
     "text": [
      "o número de valores NaN para a variável APGAR5: \n",
      "APGAR5    103\n",
      "dtype: int64\n"
     ]
    }
   ],
   "source": [
    "# contando os NaNs do df:\n",
    "\n",
    "print(f'o número de valores NaN para a variável APGAR5: \\n{df[[\"APGAR5\"]].isnull().sum()}')"
   ]
  },
  {
   "cell_type": "code",
   "execution_count": 8,
   "metadata": {},
   "outputs": [
    {
     "name": "stdout",
     "output_type": "stream",
     "text": [
      "o número de valores NaN para cada variável é: \n",
      "APGAR5    0\n",
      "dtype: int64\n"
     ]
    }
   ],
   "source": [
    "# Deletar as linhas onde a coluna APGAR5 tem valores NaN\n",
    "df = df.dropna(subset=['APGAR5'])\n",
    "\n",
    "# Verificar se os NaNs foram removidos\n",
    "print(f'o número de valores NaN para cada variável é: \\n{df[[\"APGAR5\"]].isnull().sum()}')"
   ]
  },
  {
   "cell_type": "code",
   "execution_count": 9,
   "metadata": {},
   "outputs": [
    {
     "name": "stdout",
     "output_type": "stream",
     "text": [
      "Valores únicos em APGAR5: [10.  9.  7.  0.  8.  4.  3.  6.  5.  2.  1.]\n"
     ]
    }
   ],
   "source": [
    "# valores para a variável 'APGAR5'\n",
    "valores_unicos_apgar5 = df['APGAR5'].unique()\n",
    "print(f'Valores únicos em APGAR5: {valores_unicos_apgar5}')"
   ]
  },
  {
   "cell_type": "code",
   "execution_count": 10,
   "metadata": {},
   "outputs": [],
   "source": [
    "# Criando variável categórica para APGAR5\\\n",
    "data = valores_unicos_apgar5"
   ]
  },
  {
   "cell_type": "code",
   "execution_count": 11,
   "metadata": {},
   "outputs": [],
   "source": [
    "# rótulos para os intervalos\n",
    "intervalos = {\n",
    "    (0, 3): 'asfixia grave',\n",
    "    (4, 5): 'asfixia moderada',\n",
    "    (6, 7): 'asfixia leve',\n",
    "    (8, 10): 'normal'\n",
    "}"
   ]
  },
  {
   "cell_type": "code",
   "execution_count": 12,
   "metadata": {},
   "outputs": [],
   "source": [
    "def map_interval(value, intervalos):\n",
    "    for (lower, upper), label in intervalos.items():\n",
    "        if lower <= value <= upper:\n",
    "            return label\n",
    "    return np.nan"
   ]
  },
  {
   "cell_type": "code",
   "execution_count": 13,
   "metadata": {},
   "outputs": [
    {
     "data": {
      "text/html": [
       "<div>\n",
       "<style scoped>\n",
       "    .dataframe tbody tr th:only-of-type {\n",
       "        vertical-align: middle;\n",
       "    }\n",
       "\n",
       "    .dataframe tbody tr th {\n",
       "        vertical-align: top;\n",
       "    }\n",
       "\n",
       "    .dataframe thead th {\n",
       "        text-align: right;\n",
       "    }\n",
       "</style>\n",
       "<table border=\"1\" class=\"dataframe\">\n",
       "  <thead>\n",
       "    <tr style=\"text-align: right;\">\n",
       "      <th></th>\n",
       "      <th>APGAR5</th>\n",
       "      <th>APGAR5_Cat</th>\n",
       "    </tr>\n",
       "  </thead>\n",
       "  <tbody>\n",
       "    <tr>\n",
       "      <th>0</th>\n",
       "      <td>10.0</td>\n",
       "      <td>normal</td>\n",
       "    </tr>\n",
       "    <tr>\n",
       "      <th>1</th>\n",
       "      <td>9.0</td>\n",
       "      <td>normal</td>\n",
       "    </tr>\n",
       "    <tr>\n",
       "      <th>2</th>\n",
       "      <td>10.0</td>\n",
       "      <td>normal</td>\n",
       "    </tr>\n",
       "    <tr>\n",
       "      <th>3</th>\n",
       "      <td>10.0</td>\n",
       "      <td>normal</td>\n",
       "    </tr>\n",
       "    <tr>\n",
       "      <th>4</th>\n",
       "      <td>10.0</td>\n",
       "      <td>normal</td>\n",
       "    </tr>\n",
       "    <tr>\n",
       "      <th>5</th>\n",
       "      <td>10.0</td>\n",
       "      <td>normal</td>\n",
       "    </tr>\n",
       "    <tr>\n",
       "      <th>6</th>\n",
       "      <td>10.0</td>\n",
       "      <td>normal</td>\n",
       "    </tr>\n",
       "    <tr>\n",
       "      <th>7</th>\n",
       "      <td>10.0</td>\n",
       "      <td>normal</td>\n",
       "    </tr>\n",
       "    <tr>\n",
       "      <th>8</th>\n",
       "      <td>9.0</td>\n",
       "      <td>normal</td>\n",
       "    </tr>\n",
       "    <tr>\n",
       "      <th>9</th>\n",
       "      <td>10.0</td>\n",
       "      <td>normal</td>\n",
       "    </tr>\n",
       "    <tr>\n",
       "      <th>10</th>\n",
       "      <td>9.0</td>\n",
       "      <td>normal</td>\n",
       "    </tr>\n",
       "    <tr>\n",
       "      <th>11</th>\n",
       "      <td>10.0</td>\n",
       "      <td>normal</td>\n",
       "    </tr>\n",
       "  </tbody>\n",
       "</table>\n",
       "</div>"
      ],
      "text/plain": [
       "    APGAR5 APGAR5_Cat\n",
       "0     10.0     normal\n",
       "1      9.0     normal\n",
       "2     10.0     normal\n",
       "3     10.0     normal\n",
       "4     10.0     normal\n",
       "5     10.0     normal\n",
       "6     10.0     normal\n",
       "7     10.0     normal\n",
       "8      9.0     normal\n",
       "9     10.0     normal\n",
       "10     9.0     normal\n",
       "11    10.0     normal"
      ]
     },
     "execution_count": 13,
     "metadata": {},
     "output_type": "execute_result"
    }
   ],
   "source": [
    "# Aplicar a função à coluna APGAR5\n",
    "df['APGAR5_Cat'] = df['APGAR5'].apply(lambda x: map_interval(x, intervalos))\n",
    "\n",
    "df[['APGAR5','APGAR5_Cat']].head(12)\n"
   ]
  },
  {
   "cell_type": "markdown",
   "metadata": {},
   "source": [
    "#### 3) Monte um gráfico comparando a distribuição de APGAR5 por sexo para cada grupo de tempo de gestação (GESTACAO)."
   ]
  },
  {
   "cell_type": "code",
   "execution_count": 14,
   "metadata": {},
   "outputs": [
    {
     "data": {
      "image/png": "[encoded data removed]",
      "text/plain": [
       "<Figure size 640x480 with 1 Axes>"
      ]
     },
     "metadata": {},
     "output_type": "display_data"
    }
   ],
   "source": [
    "# Gráfico de boxplot do seaborn plotando os dados de APGAR 5 por sexo\n",
    "ax = sns.boxplot(data = df, y=\"APGAR5\", x=\"SEXO\", orient=\"v\", hue='GESTACAO')"
   ]
  },
  {
   "cell_type": "markdown",
   "metadata": {},
   "source": [
    "####  4) Monte uma tabela cruzada com APGAR5 nas colunas e GESTACAO nas linhas"
   ]
  },
  {
   "cell_type": "code",
   "execution_count": 15,
   "metadata": {},
   "outputs": [
    {
     "data": {
      "text/html": [
       "<div>\n",
       "<style scoped>\n",
       "    .dataframe tbody tr th:only-of-type {\n",
       "        vertical-align: middle;\n",
       "    }\n",
       "\n",
       "    .dataframe tbody tr th {\n",
       "        vertical-align: top;\n",
       "    }\n",
       "\n",
       "    .dataframe thead th {\n",
       "        text-align: right;\n",
       "    }\n",
       "</style>\n",
       "<table border=\"1\" class=\"dataframe\">\n",
       "  <thead>\n",
       "    <tr style=\"text-align: right;\">\n",
       "      <th>GESTACAO</th>\n",
       "      <th>22 a 27 semanas</th>\n",
       "      <th>28 a 31 semanas</th>\n",
       "      <th>32 a 36 semanas</th>\n",
       "      <th>37 a 41 semanas</th>\n",
       "      <th>42 semanas e mais</th>\n",
       "      <th>Menos de 22 semanas</th>\n",
       "    </tr>\n",
       "    <tr>\n",
       "      <th>APGAR5</th>\n",
       "      <th></th>\n",
       "      <th></th>\n",
       "      <th></th>\n",
       "      <th></th>\n",
       "      <th></th>\n",
       "      <th></th>\n",
       "    </tr>\n",
       "  </thead>\n",
       "  <tbody>\n",
       "    <tr>\n",
       "      <th>0.0</th>\n",
       "      <td>7</td>\n",
       "      <td>0</td>\n",
       "      <td>2</td>\n",
       "      <td>5</td>\n",
       "      <td>1</td>\n",
       "      <td>1</td>\n",
       "    </tr>\n",
       "    <tr>\n",
       "      <th>1.0</th>\n",
       "      <td>0</td>\n",
       "      <td>0</td>\n",
       "      <td>2</td>\n",
       "      <td>20</td>\n",
       "      <td>0</td>\n",
       "      <td>0</td>\n",
       "    </tr>\n",
       "    <tr>\n",
       "      <th>2.0</th>\n",
       "      <td>8</td>\n",
       "      <td>2</td>\n",
       "      <td>2</td>\n",
       "      <td>3</td>\n",
       "      <td>0</td>\n",
       "      <td>1</td>\n",
       "    </tr>\n",
       "    <tr>\n",
       "      <th>3.0</th>\n",
       "      <td>6</td>\n",
       "      <td>1</td>\n",
       "      <td>2</td>\n",
       "      <td>5</td>\n",
       "      <td>0</td>\n",
       "      <td>0</td>\n",
       "    </tr>\n",
       "    <tr>\n",
       "      <th>4.0</th>\n",
       "      <td>1</td>\n",
       "      <td>5</td>\n",
       "      <td>8</td>\n",
       "      <td>7</td>\n",
       "      <td>0</td>\n",
       "      <td>0</td>\n",
       "    </tr>\n",
       "    <tr>\n",
       "      <th>5.0</th>\n",
       "      <td>0</td>\n",
       "      <td>7</td>\n",
       "      <td>11</td>\n",
       "      <td>21</td>\n",
       "      <td>1</td>\n",
       "      <td>0</td>\n",
       "    </tr>\n",
       "    <tr>\n",
       "      <th>6.0</th>\n",
       "      <td>2</td>\n",
       "      <td>7</td>\n",
       "      <td>17</td>\n",
       "      <td>45</td>\n",
       "      <td>1</td>\n",
       "      <td>0</td>\n",
       "    </tr>\n",
       "    <tr>\n",
       "      <th>7.0</th>\n",
       "      <td>10</td>\n",
       "      <td>11</td>\n",
       "      <td>56</td>\n",
       "      <td>151</td>\n",
       "      <td>5</td>\n",
       "      <td>1</td>\n",
       "    </tr>\n",
       "    <tr>\n",
       "      <th>8.0</th>\n",
       "      <td>24</td>\n",
       "      <td>61</td>\n",
       "      <td>362</td>\n",
       "      <td>1417</td>\n",
       "      <td>44</td>\n",
       "      <td>0</td>\n",
       "    </tr>\n",
       "    <tr>\n",
       "      <th>9.0</th>\n",
       "      <td>19</td>\n",
       "      <td>55</td>\n",
       "      <td>1307</td>\n",
       "      <td>13565</td>\n",
       "      <td>423</td>\n",
       "      <td>3</td>\n",
       "    </tr>\n",
       "    <tr>\n",
       "      <th>10.0</th>\n",
       "      <td>8</td>\n",
       "      <td>13</td>\n",
       "      <td>465</td>\n",
       "      <td>7284</td>\n",
       "      <td>223</td>\n",
       "      <td>1</td>\n",
       "    </tr>\n",
       "  </tbody>\n",
       "</table>\n",
       "</div>"
      ],
      "text/plain": [
       "GESTACAO  22 a 27 semanas  28 a 31 semanas  32 a 36 semanas  37 a 41 semanas  \\\n",
       "APGAR5                                                                         \n",
       "0.0                     7                0                2                5   \n",
       "1.0                     0                0                2               20   \n",
       "2.0                     8                2                2                3   \n",
       "3.0                     6                1                2                5   \n",
       "4.0                     1                5                8                7   \n",
       "5.0                     0                7               11               21   \n",
       "6.0                     2                7               17               45   \n",
       "7.0                    10               11               56              151   \n",
       "8.0                    24               61              362             1417   \n",
       "9.0                    19               55             1307            13565   \n",
       "10.0                    8               13              465             7284   \n",
       "\n",
       "GESTACAO  42 semanas e mais  Menos de 22 semanas  \n",
       "APGAR5                                            \n",
       "0.0                       1                    1  \n",
       "1.0                       0                    0  \n",
       "2.0                       0                    1  \n",
       "3.0                       0                    0  \n",
       "4.0                       0                    0  \n",
       "5.0                       1                    0  \n",
       "6.0                       1                    0  \n",
       "7.0                       5                    1  \n",
       "8.0                      44                    0  \n",
       "9.0                     423                    3  \n",
       "10.0                    223                    1  "
      ]
     },
     "execution_count": 15,
     "metadata": {},
     "output_type": "execute_result"
    }
   ],
   "source": [
    "# Criando a tabela cruzada utilizando o crosstab do pandas\n",
    "cross =  pd.crosstab(df['APGAR5'], df['GESTACAO'])\n",
    "cross"
   ]
  },
  {
   "cell_type": "code",
   "execution_count": 16,
   "metadata": {},
   "outputs": [
    {
     "data": {
      "text/plain": [
       "APGAR5\n",
       "0.0        16\n",
       "1.0        22\n",
       "2.0        16\n",
       "3.0        14\n",
       "4.0        21\n",
       "5.0        40\n",
       "6.0        72\n",
       "7.0       234\n",
       "8.0      1908\n",
       "9.0     15372\n",
       "10.0     7994\n",
       "dtype: int64"
      ]
     },
     "execution_count": 16,
     "metadata": {},
     "output_type": "execute_result"
    }
   ],
   "source": [
    "# Somando os valores de cada linha\n",
    "cross.sum(axis=1)"
   ]
  },
  {
   "cell_type": "markdown",
   "metadata": {},
   "source": [
    "####  5) Da tabela cruzada do intem anterior, calcule os percentuais de linha. Ou seja, a distribuição da variável APGAR5 para cada classe de GESTACAO dado."
   ]
  },
  {
   "cell_type": "code",
   "execution_count": 17,
   "metadata": {},
   "outputs": [
    {
     "data": {
      "text/html": [
       "<div>\n",
       "<style scoped>\n",
       "    .dataframe tbody tr th:only-of-type {\n",
       "        vertical-align: middle;\n",
       "    }\n",
       "\n",
       "    .dataframe tbody tr th {\n",
       "        vertical-align: top;\n",
       "    }\n",
       "\n",
       "    .dataframe thead th {\n",
       "        text-align: right;\n",
       "    }\n",
       "</style>\n",
       "<table border=\"1\" class=\"dataframe\">\n",
       "  <thead>\n",
       "    <tr style=\"text-align: right;\">\n",
       "      <th>GESTACAO</th>\n",
       "      <th>22 a 27 semanas</th>\n",
       "      <th>28 a 31 semanas</th>\n",
       "      <th>32 a 36 semanas</th>\n",
       "      <th>37 a 41 semanas</th>\n",
       "      <th>42 semanas e mais</th>\n",
       "      <th>Menos de 22 semanas</th>\n",
       "    </tr>\n",
       "    <tr>\n",
       "      <th>APGAR5</th>\n",
       "      <th></th>\n",
       "      <th></th>\n",
       "      <th></th>\n",
       "      <th></th>\n",
       "      <th></th>\n",
       "      <th></th>\n",
       "    </tr>\n",
       "  </thead>\n",
       "  <tbody>\n",
       "    <tr>\n",
       "      <th>0.0</th>\n",
       "      <td>0.437500</td>\n",
       "      <td>0.000000</td>\n",
       "      <td>0.125000</td>\n",
       "      <td>0.312500</td>\n",
       "      <td>0.062500</td>\n",
       "      <td>0.062500</td>\n",
       "    </tr>\n",
       "    <tr>\n",
       "      <th>1.0</th>\n",
       "      <td>0.000000</td>\n",
       "      <td>0.000000</td>\n",
       "      <td>0.090909</td>\n",
       "      <td>0.909091</td>\n",
       "      <td>0.000000</td>\n",
       "      <td>0.000000</td>\n",
       "    </tr>\n",
       "    <tr>\n",
       "      <th>2.0</th>\n",
       "      <td>0.500000</td>\n",
       "      <td>0.125000</td>\n",
       "      <td>0.125000</td>\n",
       "      <td>0.187500</td>\n",
       "      <td>0.000000</td>\n",
       "      <td>0.062500</td>\n",
       "    </tr>\n",
       "    <tr>\n",
       "      <th>3.0</th>\n",
       "      <td>0.428571</td>\n",
       "      <td>0.071429</td>\n",
       "      <td>0.142857</td>\n",
       "      <td>0.357143</td>\n",
       "      <td>0.000000</td>\n",
       "      <td>0.000000</td>\n",
       "    </tr>\n",
       "    <tr>\n",
       "      <th>4.0</th>\n",
       "      <td>0.047619</td>\n",
       "      <td>0.238095</td>\n",
       "      <td>0.380952</td>\n",
       "      <td>0.333333</td>\n",
       "      <td>0.000000</td>\n",
       "      <td>0.000000</td>\n",
       "    </tr>\n",
       "    <tr>\n",
       "      <th>5.0</th>\n",
       "      <td>0.000000</td>\n",
       "      <td>0.175000</td>\n",
       "      <td>0.275000</td>\n",
       "      <td>0.525000</td>\n",
       "      <td>0.025000</td>\n",
       "      <td>0.000000</td>\n",
       "    </tr>\n",
       "    <tr>\n",
       "      <th>6.0</th>\n",
       "      <td>0.027778</td>\n",
       "      <td>0.097222</td>\n",
       "      <td>0.236111</td>\n",
       "      <td>0.625000</td>\n",
       "      <td>0.013889</td>\n",
       "      <td>0.000000</td>\n",
       "    </tr>\n",
       "    <tr>\n",
       "      <th>7.0</th>\n",
       "      <td>0.042735</td>\n",
       "      <td>0.047009</td>\n",
       "      <td>0.239316</td>\n",
       "      <td>0.645299</td>\n",
       "      <td>0.021368</td>\n",
       "      <td>0.004274</td>\n",
       "    </tr>\n",
       "    <tr>\n",
       "      <th>8.0</th>\n",
       "      <td>0.012579</td>\n",
       "      <td>0.031971</td>\n",
       "      <td>0.189727</td>\n",
       "      <td>0.742662</td>\n",
       "      <td>0.023061</td>\n",
       "      <td>0.000000</td>\n",
       "    </tr>\n",
       "    <tr>\n",
       "      <th>9.0</th>\n",
       "      <td>0.001236</td>\n",
       "      <td>0.003578</td>\n",
       "      <td>0.085025</td>\n",
       "      <td>0.882449</td>\n",
       "      <td>0.027518</td>\n",
       "      <td>0.000195</td>\n",
       "    </tr>\n",
       "    <tr>\n",
       "      <th>10.0</th>\n",
       "      <td>0.001001</td>\n",
       "      <td>0.001626</td>\n",
       "      <td>0.058169</td>\n",
       "      <td>0.911183</td>\n",
       "      <td>0.027896</td>\n",
       "      <td>0.000125</td>\n",
       "    </tr>\n",
       "  </tbody>\n",
       "</table>\n",
       "</div>"
      ],
      "text/plain": [
       "GESTACAO  22 a 27 semanas  28 a 31 semanas  32 a 36 semanas  37 a 41 semanas  \\\n",
       "APGAR5                                                                         \n",
       "0.0              0.437500         0.000000         0.125000         0.312500   \n",
       "1.0              0.000000         0.000000         0.090909         0.909091   \n",
       "2.0              0.500000         0.125000         0.125000         0.187500   \n",
       "3.0              0.428571         0.071429         0.142857         0.357143   \n",
       "4.0              0.047619         0.238095         0.380952         0.333333   \n",
       "5.0              0.000000         0.175000         0.275000         0.525000   \n",
       "6.0              0.027778         0.097222         0.236111         0.625000   \n",
       "7.0              0.042735         0.047009         0.239316         0.645299   \n",
       "8.0              0.012579         0.031971         0.189727         0.742662   \n",
       "9.0              0.001236         0.003578         0.085025         0.882449   \n",
       "10.0             0.001001         0.001626         0.058169         0.911183   \n",
       "\n",
       "GESTACAO  42 semanas e mais  Menos de 22 semanas  \n",
       "APGAR5                                            \n",
       "0.0                0.062500             0.062500  \n",
       "1.0                0.000000             0.000000  \n",
       "2.0                0.000000             0.062500  \n",
       "3.0                0.000000             0.000000  \n",
       "4.0                0.000000             0.000000  \n",
       "5.0                0.025000             0.000000  \n",
       "6.0                0.013889             0.000000  \n",
       "7.0                0.021368             0.004274  \n",
       "8.0                0.023061             0.000000  \n",
       "9.0                0.027518             0.000195  \n",
       "10.0               0.027896             0.000125  "
      ]
     },
     "execution_count": 17,
     "metadata": {},
     "output_type": "execute_result"
    }
   ],
   "source": [
    "# Calculando a distribuição do APGAR5 por GESTACAO\n",
    "cross_pct = cross.div(cross.sum(axis=1),  axis=0)\n",
    "cross_pct"
   ]
  },
  {
   "cell_type": "code",
   "execution_count": 18,
   "metadata": {},
   "outputs": [
    {
     "data": {
      "text/plain": [
       "APGAR5\n",
       "0.0     1.0\n",
       "1.0     1.0\n",
       "2.0     1.0\n",
       "3.0     1.0\n",
       "4.0     1.0\n",
       "5.0     1.0\n",
       "6.0     1.0\n",
       "7.0     1.0\n",
       "8.0     1.0\n",
       "9.0     1.0\n",
       "10.0    1.0\n",
       "dtype: float64"
      ]
     },
     "execution_count": 18,
     "metadata": {},
     "output_type": "execute_result"
    }
   ],
   "source": [
    "cross_pct.sum(axis=1)"
   ]
  },
  {
   "cell_type": "markdown",
   "metadata": {},
   "source": [
    "####  6) Os médicos costumam classificar parto prematuro quando a gestação tem menos que 37 semanas. Faça um gráfico de barras da tabela cruzada acima e conclua se você acha que este conjunto de dados corrobora ou não com a afirmação dos médicos."
   ]
  },
  {
   "cell_type": "code",
   "execution_count": 19,
   "metadata": {},
   "outputs": [
    {
     "data": {
      "text/plain": [
       "<Axes: xlabel='APGAR5'>"
      ]
     },
     "execution_count": 19,
     "metadata": {},
     "output_type": "execute_result"
    },
    {
     "data": {
      "image/png": "[encoded data removed]",
      "text/plain": [
       "<Figure size 640x480 with 1 Axes>"
      ]
     },
     "metadata": {},
     "output_type": "display_data"
    }
   ],
   "source": [
    "# plotando o gráfico de barras da tabela cruzada\n",
    "cross_pct.plot.bar()"
   ]
  },
  {
   "cell_type": "markdown",
   "metadata": {},
   "source": [
    "O gráfico acima exaalta que a partir do apgar 8.0, de forma decrescente, vão aumentando as frequências das gestações consideradas prematura. A análise conjunta entre o APGAR5 e a GESTACAO, nos da o insight que, quanto menor o tempo de gestacão, menor vai sendo o apgar. "
   ]
  },
  {
   "cell_type": "markdown",
   "metadata": {},
   "source": [
    "#### 7) Veja se há relação entre APGAR5 e o peso do bebê. Isso pode ser feito de diversas formas. Fique à vontade para escolher a melhor maneira na sua opinião, ou até testar mais de um dos gráficos que vimos. Fique à vontade também para consultar a documentação e utilizar algum outro recurso se achar conveniente."
   ]
  },
  {
   "cell_type": "code",
   "execution_count": 20,
   "metadata": {},
   "outputs": [
    {
     "data": {
      "text/html": [
       "<div>\n",
       "<style scoped>\n",
       "    .dataframe tbody tr th:only-of-type {\n",
       "        vertical-align: middle;\n",
       "    }\n",
       "\n",
       "    .dataframe tbody tr th {\n",
       "        vertical-align: top;\n",
       "    }\n",
       "\n",
       "    .dataframe thead th {\n",
       "        text-align: right;\n",
       "    }\n",
       "</style>\n",
       "<table border=\"1\" class=\"dataframe\">\n",
       "  <thead>\n",
       "    <tr style=\"text-align: right;\">\n",
       "      <th></th>\n",
       "      <th>APGAR5</th>\n",
       "      <th>PESO</th>\n",
       "    </tr>\n",
       "  </thead>\n",
       "  <tbody>\n",
       "    <tr>\n",
       "      <th>0</th>\n",
       "      <td>10.0</td>\n",
       "      <td>3685</td>\n",
       "    </tr>\n",
       "    <tr>\n",
       "      <th>1</th>\n",
       "      <td>9.0</td>\n",
       "      <td>3055</td>\n",
       "    </tr>\n",
       "    <tr>\n",
       "      <th>2</th>\n",
       "      <td>10.0</td>\n",
       "      <td>3460</td>\n",
       "    </tr>\n",
       "    <tr>\n",
       "      <th>3</th>\n",
       "      <td>10.0</td>\n",
       "      <td>2982</td>\n",
       "    </tr>\n",
       "    <tr>\n",
       "      <th>4</th>\n",
       "      <td>10.0</td>\n",
       "      <td>3310</td>\n",
       "    </tr>\n",
       "    <tr>\n",
       "      <th>...</th>\n",
       "      <td>...</td>\n",
       "      <td>...</td>\n",
       "    </tr>\n",
       "    <tr>\n",
       "      <th>27023</th>\n",
       "      <td>9.0</td>\n",
       "      <td>2110</td>\n",
       "    </tr>\n",
       "    <tr>\n",
       "      <th>27024</th>\n",
       "      <td>9.0</td>\n",
       "      <td>3310</td>\n",
       "    </tr>\n",
       "    <tr>\n",
       "      <th>27025</th>\n",
       "      <td>10.0</td>\n",
       "      <td>3065</td>\n",
       "    </tr>\n",
       "    <tr>\n",
       "      <th>27026</th>\n",
       "      <td>9.0</td>\n",
       "      <td>2352</td>\n",
       "    </tr>\n",
       "    <tr>\n",
       "      <th>27027</th>\n",
       "      <td>8.0</td>\n",
       "      <td>4240</td>\n",
       "    </tr>\n",
       "  </tbody>\n",
       "</table>\n",
       "<p>26925 rows × 2 columns</p>\n",
       "</div>"
      ],
      "text/plain": [
       "       APGAR5  PESO\n",
       "0        10.0  3685\n",
       "1         9.0  3055\n",
       "2        10.0  3460\n",
       "3        10.0  2982\n",
       "4        10.0  3310\n",
       "...       ...   ...\n",
       "27023     9.0  2110\n",
       "27024     9.0  3310\n",
       "27025    10.0  3065\n",
       "27026     9.0  2352\n",
       "27027     8.0  4240\n",
       "\n",
       "[26925 rows x 2 columns]"
      ]
     },
     "execution_count": 20,
     "metadata": {},
     "output_type": "execute_result"
    }
   ],
   "source": [
    "# Escrevendo as colunas APGAR5 e PESO\n",
    "df[['APGAR5', 'PESO']]\n",
    "\n",
    "# Temos a correlação entre duas variáveis quantitativas: APGAR5 discreta e PESO contínua"
   ]
  },
  {
   "cell_type": "code",
   "execution_count": 21,
   "metadata": {},
   "outputs": [
    {
     "name": "stderr",
     "output_type": "stream",
     "text": [
      "C:\\Users\\earap\\anaconda3\\Lib\\site-packages\\seaborn\\_oldcore.py:1119: FutureWarning: use_inf_as_na option is deprecated and will be removed in a future version. Convert inf values to NaN before operating instead.\n",
      "  with pd.option_context('mode.use_inf_as_na', True):\n",
      "C:\\Users\\earap\\anaconda3\\Lib\\site-packages\\seaborn\\_oldcore.py:1119: FutureWarning: use_inf_as_na option is deprecated and will be removed in a future version. Convert inf values to NaN before operating instead.\n",
      "  with pd.option_context('mode.use_inf_as_na', True):\n",
      "C:\\Users\\earap\\anaconda3\\Lib\\site-packages\\seaborn\\_oldcore.py:1119: FutureWarning: use_inf_as_na option is deprecated and will be removed in a future version. Convert inf values to NaN before operating instead.\n",
      "  with pd.option_context('mode.use_inf_as_na', True):\n",
      "C:\\Users\\earap\\anaconda3\\Lib\\site-packages\\seaborn\\_oldcore.py:1119: FutureWarning: use_inf_as_na option is deprecated and will be removed in a future version. Convert inf values to NaN before operating instead.\n",
      "  with pd.option_context('mode.use_inf_as_na', True):\n"
     ]
    },
    {
     "data": {
      "text/plain": [
       "<seaborn.axisgrid.JointGrid at 0x261e4c5ba50>"
      ]
     },
     "execution_count": 21,
     "metadata": {},
     "output_type": "execute_result"
    },
    {
     "data": {
      "image/png": "[encoded data removed]",
      "text/plain": [
       "<Figure size 600x600 with 3 Axes>"
      ]
     },
     "metadata": {},
     "output_type": "display_data"
    }
   ],
   "source": [
    "# Plotando com jointplot\n",
    "sns.jointplot(x = 'APGAR5'\n",
    "              , y = 'PESO'\n",
    "              , data = df\n",
    "              , kind=\"hist\"\n",
    "              , bins = [10, 10])"
   ]
  },
  {
   "cell_type": "code",
   "execution_count": null,
   "metadata": {},
   "outputs": [],
   "source": [
    "# Jointplot teve um retorno que exalta a concentração de pontos entre o apgar5 9 e 10 e peso entre 4000 e 3500g"
   ]
  },
  {
   "cell_type": "code",
   "execution_count": 22,
   "metadata": {},
   "outputs": [
    {
     "data": {
      "image/png": "[encoded data removed]",
      "text/plain": [
       "<Figure size 640x480 with 1 Axes>"
      ]
     },
     "metadata": {},
     "output_type": "display_data"
    }
   ],
   "source": [
    "# Utilizando o Seaborn para entender a dispersão dos dados através de Boxplot\n",
    "ax = sns.boxplot(x=\"APGAR5\", y=\"PESO\", data=df)"
   ]
  },
  {
   "cell_type": "code",
   "execution_count": 23,
   "metadata": {},
   "outputs": [
    {
     "data": {
      "text/plain": [
       "Text(0, 0.5, 'PESO (g)')"
      ]
     },
     "execution_count": 23,
     "metadata": {},
     "output_type": "execute_result"
    },
    {
     "data": {
      "image/png": "[encoded data removed]",
      "text/plain": [
       "<Figure size 1200x600 with 1 Axes>"
      ]
     },
     "metadata": {},
     "output_type": "display_data"
    }
   ],
   "source": [
    "# Ajustar o tamanho da figura\n",
    "plt.figure(figsize=(12, 6))  # Ajuste os valores de figsize conforme necessário\n",
    "\n",
    "# Criar o gráfico violin plot\n",
    "ax = sns.violinplot(x=\"APGAR5\", \n",
    "                    y=\"PESO\", \n",
    "                    data=df, \n",
    "                    linewidth=0.5,\n",
    "                    width=2,\n",
    "                    inner=\"point\")\n",
    "\n",
    "# Adicionar títulos e rótulos\n",
    "ax.set_title(\"Distribuição de PESO por APGAR5\")\n",
    "ax.set_xlabel(\"APGAR5 Score\")\n",
    "ax.set_ylabel(\"PESO (g)\")"
   ]
  },
  {
   "cell_type": "code",
   "execution_count": null,
   "metadata": {},
   "outputs": [],
   "source": []
  }
 ],
 "metadata": {
  "kernelspec": {
   "display_name": "Python 3 (ipykernel)",
   "language": "python",
   "name": "python3"
  },
  "language_info": {
   "codemirror_mode": {
    "name": "ipython",
    "version": 3
   },
   "file_extension": ".py",
   "mimetype": "text/x-python",
   "name": "python",
   "nbconvert_exporter": "python",
   "pygments_lexer": "ipython3",
   "version": "3.11.7"
  }
 },
 "nbformat": 4,
 "nbformat_minor": 4
}
