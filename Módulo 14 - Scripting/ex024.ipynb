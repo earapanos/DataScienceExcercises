{
 "cells": [
  {
   "cell_type": "code",
   "execution_count": 1,
   "metadata": {},
   "outputs": [
    {
     "name": "stdout",
     "output_type": "stream",
     "text": [
      "MAR: 2019-01-01 2019-03-31\n",
      "ABR: 2019-01-01 2019-04-30\n",
      "MAI: 2019-01-01 2019-05-31\n",
      "JUN: 2019-01-01 2019-06-30\n",
      "DEZ: 2019-01-01 2019-12-31\n",
      "Gráficos gerados e salvos com sucesso!\n"
     ]
    }
   ],
   "source": [
    "# bibliotecas necessárias\n",
    "import pandas as pd\n",
    "import seaborn as sns\n",
    "import matplotlib.pyplot as plt\n",
    "import os\n",
    "\n",
    "sns.set_theme()\n",
    "\n",
    "# função de plotagem\n",
    "def plota_pivot_table(df, value, index, func, ylabel, xlabel, opcao='nada'):\n",
    "    if opcao == 'nada':\n",
    "        pd.pivot_table(df, values=value, index=index, aggfunc=func).plot(figsize=[15, 5])\n",
    "    elif opcao == 'sort':\n",
    "        pd.pivot_table(df, values=value, index=index, aggfunc=func).sort_values(value).plot(figsize=[15, 5])\n",
    "    elif opcao == 'unstack':\n",
    "        pd.pivot_table(df, values=value, index=index, aggfunc=func).unstack().plot(figsize=[15, 5])\n",
    "    plt.ylabel(ylabel)\n",
    "    plt.xlabel(xlabel)\n",
    "\n",
    "# arquivos para os meses desejados\n",
    "meses = ['MAR', 'ABR', 'MAI', 'JUN', 'DEZ']\n",
    "caminho_base = r'C:\\Users\\earap\\Documents\\EBAC\\DataScienceExcercises\\Módulo 14 - Scripting\\input\\\\'\n",
    "\n",
    "# looping para processar todos os arquivos e gerar gráficos automaticamente\n",
    "for mes in meses:\n",
    "    sinasc = pd.read_csv(f'{caminho_base}SINASC_RO_2019_{mes}.csv')\n",
    "    print(f'{mes}:', sinasc.DTNASC.min(), sinasc.DTNASC.max())\n",
    "\n",
    "    # pasta de saída para salvar gráficos\n",
    "    max_data = sinasc.DTNASC.max()[:7]\n",
    "    os.makedirs(f'./output/figs/{max_data}', exist_ok=True)\n",
    "\n",
    "    # gera e salvamento dos gráficos\n",
    "    plota_pivot_table(sinasc, 'IDADEMAE', 'DTNASC', 'count', 'Quantidade de Nascimento', 'Data de Nascimento')\n",
    "    plt.savefig(f'./output/figs/{max_data}/quantidade_de_nascimento.png')\n",
    "    plt.close()\n",
    "\n",
    "    plota_pivot_table(sinasc, 'IDADEMAE', ['DTNASC', 'SEXO'], 'mean', 'Média Idade Mãe', 'Data de Nascimento', 'unstack')\n",
    "    plt.savefig(f'./output/figs/{max_data}/media_idade_mae_por_sexo.png')\n",
    "    plt.close()\n",
    "\n",
    "    plota_pivot_table(sinasc, 'PESO', ['DTNASC', 'SEXO'], 'mean', 'Média Peso Bebê', 'Data de Nascimento', 'unstack')\n",
    "    plt.savefig(f'./output/figs/{max_data}/media_peso_bebe_por_sexo.png')\n",
    "    plt.close()\n",
    "\n",
    "    plota_pivot_table(sinasc, 'APGAR1', 'GESTACAO', 'mean', 'Média APGAR1', 'Gestação', 'sort')\n",
    "    plt.savefig(f'./output/figs/{max_data}/media_apgar1_por_gestacao.png')\n",
    "    plt.close()\n",
    "\n",
    "    plota_pivot_table(sinasc, 'APGAR5', 'GESTACAO', 'mean', 'Média APGAR5', 'Gestação', 'sort')\n",
    "    plt.savefig(f'./output/figs/{max_data}/media_apgar5_por_gestacao.png')\n",
    "    plt.close()\n",
    "\n",
    "# final\n",
    "print(\"Gráficos gerados e salvos com sucesso!\")"
   ]
  },
  {
   "cell_type": "markdown",
   "metadata": {},
   "source": [
    "Como melhorias, eu incluí uma lista para inserir os nomes dos meses, assim é possível de se realizar o processo em looping."
   ]
  }
 ],
 "metadata": {
  "kernelspec": {
   "display_name": "base",
   "language": "python",
   "name": "python3"
  },
  "language_info": {
   "codemirror_mode": {
    "name": "ipython",
    "version": 3
   },
   "file_extension": ".py",
   "mimetype": "text/x-python",
   "name": "python",
   "nbconvert_exporter": "python",
   "pygments_lexer": "ipython3",
   "version": "3.11.7"
  }
 },
 "nbformat": 4,
 "nbformat_minor": 2
}
