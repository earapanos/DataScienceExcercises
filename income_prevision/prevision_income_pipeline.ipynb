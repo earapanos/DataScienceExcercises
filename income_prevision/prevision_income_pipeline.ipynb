{
 "cells": [
  {
   "cell_type": "code",
   "execution_count": 27,
   "metadata": {},
   "outputs": [],
   "source": [
    "import pandas as pd\n",
    "import joblib"
   ]
  },
  {
   "cell_type": "code",
   "execution_count": 28,
   "metadata": {},
   "outputs": [],
   "source": [
    "\n",
    "# Function to classify customers based on predicted income\n",
    "def predict_income(df, model):\n",
    "    # Make predictions\n",
    "    predicted_income = list(model.predict(df))\n",
    "    \n",
    "    # Classify customers based on predicted income\n",
    "    income_data = []\n",
    "    for i in predicted_income:\n",
    "        if i <= 2500:\n",
    "            dic = {'predicted_income': i, 'credit_limit': 3000, 'card_class': 'standard', 'loan_granted': 18000}\n",
    "        elif i <= 5000:\n",
    "            dic = {'predicted_income': i, 'credit_limit': 6000, 'card_class': 'gold', 'loan_granted': 36000}\n",
    "        elif i <= 7500:\n",
    "            dic = {'predicted_income': i, 'credit_limit': 8500, 'card_class': 'platinum', 'loan_granted': 54000}\n",
    "        elif i <= 10000:\n",
    "            dic = {'predicted_income': i, 'credit_limit': 15000, 'card_class': 'black', 'loan_granted': 72000}\n",
    "        elif i <= 15000:\n",
    "            dic = {'predicted_income': i, 'credit_limit': 20000, 'card_class': 'black', 'loan_granted': 100000}\n",
    "        else:\n",
    "            dic = {'predicted_income': i, 'credit_limit': 'unlimited', 'card_class': 'black', 'loan_granted': 150000}\n",
    "        income_data.append(dic)\n",
    "    \n",
    "    # Convert to DataFrame\n",
    "    income_data = pd.DataFrame(income_data)\n",
    "    \n",
    "    # Add classification results to the original DataFrame\n",
    "    df = df.reset_index(drop=True)\n",
    "    income_data = income_data.reset_index(drop=True)\n",
    "    df = pd.concat([df, income_data], axis=1)\n",
    "    \n",
    "    return df"
   ]
  },
  {
   "cell_type": "code",
   "execution_count": 29,
   "metadata": {},
   "outputs": [],
   "source": [
    "# Load new data\n",
    "novos_dados = pd.read_csv('./input/previsao_de_renda.csv')"
   ]
  },
  {
   "cell_type": "code",
   "execution_count": 30,
   "metadata": {},
   "outputs": [],
   "source": [
    "# Load the trained model\n",
    "model_path = 'prevision_income_model.pkl'\n",
    "tree = joblib.load(model_path)"
   ]
  },
  {
   "cell_type": "code",
   "execution_count": 31,
   "metadata": {},
   "outputs": [],
   "source": [
    "# Apply the same transformations as in the training phase\n",
    "novos_dados['sexo'] = novos_dados['sexo'].map({'M': 1, 'F': 0})\n",
    "novos_dados_dummies = pd.get_dummies(novos_dados, dtype=int)\n",
    "novos_dados_dummies.columns = [col.lower().replace(' ', '_').replace('á', 'a').replace('ã', 'a').replace('ú', 'u').replace('ó', 'o') \n",
    "                               for col in novos_dados_dummies.columns]"
   ]
  },
  {
   "cell_type": "code",
   "execution_count": 32,
   "metadata": {},
   "outputs": [],
   "source": [
    "# Select significant variables (same as in training)\n",
    "var_significant = [\n",
    "    'sexo', \n",
    "    'qtd_filhos', \n",
    "    'tipo_renda_assalariado',\n",
    "    'tipo_renda_servidor_publico',\n",
    "    'educacao_secundario',\n",
    "    'educacao_superior_incompleto',\n",
    "    'estado_civil_casado',\n",
    "    'estado_civil_solteiro',\n",
    "    'idade',\n",
    "    'tempo_emprego',\n",
    "    'qt_pessoas_residencia'\n",
    "]\n",
    "novos_dados_significant = novos_dados_dummies[var_significant]"
   ]
  },
  {
   "cell_type": "code",
   "execution_count": 33,
   "metadata": {},
   "outputs": [],
   "source": [
    "# Make predictions and classify customers\n",
    "resultados = predict_income(novos_dados_significant, tree)"
   ]
  },
  {
   "cell_type": "code",
   "execution_count": 34,
   "metadata": {},
   "outputs": [],
   "source": [
    "# Save the results to a CSV file\n",
    "resultados.to_csv('./output/prevision_income_results.csv', index=False)"
   ]
  },
  {
   "cell_type": "code",
   "execution_count": 35,
   "metadata": {},
   "outputs": [
    {
     "name": "stdout",
     "output_type": "stream",
     "text": [
      "   sexo  qtd_filhos  tipo_renda_assalariado  tipo_renda_servidor_publico  \\\n",
      "0     0           0                       0                            0   \n",
      "1     1           0                       1                            0   \n",
      "2     0           0                       0                            0   \n",
      "3     0           1                       0                            1   \n",
      "4     1           0                       1                            0   \n",
      "\n",
      "   educacao_secundario  educacao_superior_incompleto  estado_civil_casado  \\\n",
      "0                    1                             0                    0   \n",
      "1                    0                             0                    1   \n",
      "2                    0                             0                    1   \n",
      "3                    0                             0                    1   \n",
      "4                    1                             0                    0   \n",
      "\n",
      "   estado_civil_solteiro  idade  tempo_emprego  qt_pessoas_residencia  \\\n",
      "0                      1     26       6.602740                    1.0   \n",
      "1                      0     28       7.183562                    2.0   \n",
      "2                      0     35       0.838356                    2.0   \n",
      "3                      0     30       4.846575                    3.0   \n",
      "4                      1     33       4.293151                    1.0   \n",
      "\n",
      "   predicted_income credit_limit card_class  loan_granted  \n",
      "0       3521.750819         6000       gold         36000  \n",
      "1       8037.628647        15000      black         72000  \n",
      "2       2816.735380         6000       gold         36000  \n",
      "3       3521.750819         6000       gold         36000  \n",
      "4       4827.252950         6000       gold         36000  \n"
     ]
    }
   ],
   "source": [
    "# Display the first few rows of the results\n",
    "print(resultados.head())"
   ]
  }
 ],
 "metadata": {
  "kernelspec": {
   "display_name": "base",
   "language": "python",
   "name": "python3"
  },
  "language_info": {
   "codemirror_mode": {
    "name": "ipython",
    "version": 3
   },
   "file_extension": ".py",
   "mimetype": "text/x-python",
   "name": "python",
   "nbconvert_exporter": "python",
   "pygments_lexer": "ipython3",
   "version": "3.11.7"
  }
 },
 "nbformat": 4,
 "nbformat_minor": 2
}
