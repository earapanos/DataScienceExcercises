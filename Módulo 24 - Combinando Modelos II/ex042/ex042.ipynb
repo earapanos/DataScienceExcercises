{
 "cells": [
  {
   "cell_type": "markdown",
   "id": "86ae1f03",
   "metadata": {},
   "source": [
    "[![ebac_logo-data_science.png](https://raw.githubusercontent.com/earapanos/DataScienceExcercises/refs/heads/main/ebac_logo-data_science.png)](https://github.com/earapanos/DataScienceExcercises/tree/main)\n",
    "<!-- <img src=\"https://raw.githubusercontent.com/earapanos/DataScienceExcercises/refs/heads/main/ebac_logo-data_science.png\" alt=\"ebac_logo-data_science\"> -->\n",
    "\n",
    "---\n",
    "\n",
    "<!-- # **Profissão: Cientista de Dados** -->\n",
    "### **Módulo 24** | Combinando Modelos II | Exercício 42\n",
    "\n",
    "**Aluno:** [Eduardo Adriani Rapanos](https://www.linkedin.com/in/eduardo-rapanos/)<br>\n",
    "**Data:** 07 de abril de 2025.\n",
    "\n",
    "---"
   ]
  },
  {
   "cell_type": "markdown",
   "id": "4ae4b736",
   "metadata": {},
   "source": [
    "# Tarefa 01"
   ]
  },
  {
   "cell_type": "markdown",
   "id": "17a758dc",
   "metadata": {},
   "source": [
    "**1. Cite 5 diferenças entre o Random Forest e o AdaBoost.**"
   ]
  },
  {
   "cell_type": "markdown",
   "id": "dfb7a18a",
   "metadata": {},
   "source": [
    "| Diferenças | Random Forest | AdaBoost |\n",
    "|------------|----------------|-----------|\n",
    "| **1** | Utiliza uma \"floresta\" de árvores com a possibilidade de serem completas ou podadas. | Utiliza por padrão, uma floresta de *Stumps* (classificadores fracos), ou seja, árvores de decisão extremamente simples com apenas 1 de profundidade e 2 folhas. |\n",
    "| **2** | Utiliza árvores independentes que podem rodar paralelamente com os conjuntos de dados individualmente criados por amostragem aleatória com repetição (*Bootstrap*). | As árvores (*Stumps*) são influenciadas entre si sequencialmente e os conjuntos de dados sequenciais são criados também por amostragem aleatória com repetição, porém de forma ponderada com base no \"peso\" de cada linha através do cálculo de performance do melhor *Stump*, onde exemplos classificados incorretamente têm maior probabilidade de serem selecionados. |\n",
    "| **3** | As respostas têm o mesmo peso (importância) independente da qualidade de classificação da árvore. | As respostas têm pesos diferentes, influenciando consequentemente nas relevâncias de cada resposta. |\n",
    "| **4** | Utiliza uma quantidade definida de variáveis aleatórias (*feature selection*) em cada árvore. | Utiliza somente uma variável explicativa para cada *Stump*. |\n",
    "| **5** | Utiliza o procedimento de votação majoritária simples como previsão. | Utiliza como predição final uma votação majoritária ponderada das respostas de acordo com a performance de cada *Stump*. |"
   ]
  },
  {
   "cell_type": "markdown",
   "id": "11d46854",
   "metadata": {},
   "source": [
    "**2.** Acesse o link [Scikit-learn – adaboost](https://scikit-learn.org/stable/modules/ensemble.html#adaboost), leia a explicação (traduza se for preciso) e crie um Jupyter Notebook contendo o exemplo do AdaBoost.\n"
   ]
  },
  {
   "cell_type": "code",
   "execution_count": 4,
   "id": "ba7d439f",
   "metadata": {},
   "outputs": [],
   "source": [
    "from sklearn.model_selection import cross_val_score\n",
    "from sklearn.datasets import load_iris\n",
    "from sklearn.ensemble import AdaBoostClassifier"
   ]
  },
  {
   "cell_type": "code",
   "execution_count": 5,
   "id": "05d9eec6",
   "metadata": {},
   "outputs": [
    {
     "data": {
      "text/plain": [
       "0.9533333333333334"
      ]
     },
     "execution_count": 5,
     "metadata": {},
     "output_type": "execute_result"
    }
   ],
   "source": [
    "X, y   = load_iris(return_X_y=True)\n",
    "\n",
    "clf    = AdaBoostClassifier(n_estimators=100)\n",
    "\n",
    "scores = cross_val_score(estimator=clf, \n",
    "                         X=X, \n",
    "                         y=y, \n",
    "                         cv=5)\n",
    "\n",
    "scores.mean()"
   ]
  },
  {
   "cell_type": "markdown",
   "id": "61d961af",
   "metadata": {},
   "source": [
    "**3. Cite 5 Hiperparâmetros importantes no AdaBoost.**\n",
    "\n",
    "1. **`estimator`**: Classificador base para criar os *weak/base learners* (Stumps).  \n",
    "   Por padrão o estimador base é o algoritmo de árvore de decisão `DecisionTreeClassifier(max_depth=1)`.\n",
    "\n",
    "   > Sucessor do hiperparâmetro descontinuado `base_estimator`.\n",
    "\n",
    "2. **`n_estimators`**: Número máximo de iterações para finalizar o processo de aprendizagem.  \n",
    "   Pode ser interrompido antes deste limite caso seja considerado perfeito. Quanto maior o número de estimadores, maior será o tempo de treinamento.\n",
    "\n",
    "   > Quantidade de *Stumps*.\n",
    "\n",
    "3. **`learning_rate`**: Valor do peso aplicado a cada classificador nas iterações de reforço.  \n",
    "   A relevância dos *Stumps* pode aumentar conforme essa definição, podendo haver uma compensação entre este hiperparâmetro e o `n_estimators`.\n",
    "\n",
    "   > Taxa de aprendizado do AdaBoost.\n",
    "\n",
    "4. **`algorithm`** (`AdaBoostClassifier`): Define o algoritmo utilizado para atualizar os pesos dos exemplos durante o treinamento.\n",
    "\n",
    "   > Pode ser `SAMME` (*Discrete AdaBoost*) ou `SAMME.R` (*Real AdaBoost*), onde `SAMME.R` é recomendado para melhor desempenho.\n",
    "\n",
    "5. **`loss`** (`AdaBoostRegressor`): Assim como o hiperparâmetro `algorithm`, porém em problemas de regressão,  \n",
    "   este hiperparâmetro define a \"função de perda\" a ser usada ao atualizar os pesos após cada iteração de reforço.\n",
    "\n",
    "   > Pode ser `'linear'`, `'square'` ou `'exponential'`, tendo `'linear'` como padrão.\n"
   ]
  },
  {
   "cell_type": "markdown",
   "id": "422eb703",
   "metadata": {},
   "source": [
    "**4. (Opcional)** Utilize o GridSearch para encontrar os melhores hiperparâmetros para o conjunto de dados do exemplo (`load_iris`)."
   ]
  },
  {
   "cell_type": "code",
   "execution_count": 6,
   "id": "1116315b",
   "metadata": {},
   "outputs": [],
   "source": [
    "import pandas as pd"
   ]
  },
  {
   "cell_type": "code",
   "execution_count": 7,
   "id": "cca054b3",
   "metadata": {},
   "outputs": [
    {
     "name": "stdout",
     "output_type": "stream",
     "text": [
      "CPU times: total: 52.1 s\n",
      "Wall time: 53.2 s\n"
     ]
    },
    {
     "data": {
      "text/html": [
       "<div>\n",
       "<style scoped>\n",
       "    .dataframe tbody tr th:only-of-type {\n",
       "        vertical-align: middle;\n",
       "    }\n",
       "\n",
       "    .dataframe tbody tr th {\n",
       "        vertical-align: top;\n",
       "    }\n",
       "\n",
       "    .dataframe thead th {\n",
       "        text-align: right;\n",
       "    }\n",
       "</style>\n",
       "<table border=\"1\" class=\"dataframe\">\n",
       "  <thead>\n",
       "    <tr style=\"text-align: right;\">\n",
       "      <th></th>\n",
       "      <th>n_estimators</th>\n",
       "      <th>mean_score</th>\n",
       "    </tr>\n",
       "  </thead>\n",
       "  <tbody>\n",
       "    <tr>\n",
       "      <th>0</th>\n",
       "      <td>1</td>\n",
       "      <td>0.666667</td>\n",
       "    </tr>\n",
       "    <tr>\n",
       "      <th>1</th>\n",
       "      <td>101</td>\n",
       "      <td>0.960000</td>\n",
       "    </tr>\n",
       "    <tr>\n",
       "      <th>2</th>\n",
       "      <td>201</td>\n",
       "      <td>0.953333</td>\n",
       "    </tr>\n",
       "    <tr>\n",
       "      <th>3</th>\n",
       "      <td>301</td>\n",
       "      <td>0.953333</td>\n",
       "    </tr>\n",
       "    <tr>\n",
       "      <th>4</th>\n",
       "      <td>401</td>\n",
       "      <td>0.953333</td>\n",
       "    </tr>\n",
       "    <tr>\n",
       "      <th>5</th>\n",
       "      <td>501</td>\n",
       "      <td>0.953333</td>\n",
       "    </tr>\n",
       "    <tr>\n",
       "      <th>6</th>\n",
       "      <td>601</td>\n",
       "      <td>0.953333</td>\n",
       "    </tr>\n",
       "    <tr>\n",
       "      <th>7</th>\n",
       "      <td>701</td>\n",
       "      <td>0.953333</td>\n",
       "    </tr>\n",
       "    <tr>\n",
       "      <th>8</th>\n",
       "      <td>801</td>\n",
       "      <td>0.953333</td>\n",
       "    </tr>\n",
       "    <tr>\n",
       "      <th>9</th>\n",
       "      <td>901</td>\n",
       "      <td>0.953333</td>\n",
       "    </tr>\n",
       "    <tr>\n",
       "      <th>10</th>\n",
       "      <td>1001</td>\n",
       "      <td>0.953333</td>\n",
       "    </tr>\n",
       "  </tbody>\n",
       "</table>\n",
       "</div>"
      ],
      "text/plain": [
       "    n_estimators  mean_score\n",
       "0              1    0.666667\n",
       "1            101    0.960000\n",
       "2            201    0.953333\n",
       "3            301    0.953333\n",
       "4            401    0.953333\n",
       "5            501    0.953333\n",
       "6            601    0.953333\n",
       "7            701    0.953333\n",
       "8            801    0.953333\n",
       "9            901    0.953333\n",
       "10          1001    0.953333"
      ]
     },
     "execution_count": 7,
     "metadata": {},
     "output_type": "execute_result"
    }
   ],
   "source": [
    "%%time\n",
    "\n",
    "estimators = list(range(1, 1002, 100))\n",
    "\n",
    "n_estimators = []\n",
    "mean_scores = []\n",
    "\n",
    "for n in estimators:\n",
    "    clf = AdaBoostClassifier(n_estimators=n)\n",
    "    scores = cross_val_score(estimator=clf,\n",
    "                             X=X,\n",
    "                             y=y,\n",
    "                             cv=5)\n",
    "    \n",
    "    n_estimators.append(n)\n",
    "    mean_scores.append(scores.mean())\n",
    "\n",
    "pd.DataFrame(data=list(zip(n_estimators, mean_scores)),\n",
    "             columns=['n_estimators', 'mean_score'])\n"
   ]
  }
 ],
 "metadata": {
  "kernelspec": {
   "display_name": "base",
   "language": "python",
   "name": "python3"
  },
  "language_info": {
   "codemirror_mode": {
    "name": "ipython",
    "version": 3
   },
   "file_extension": ".py",
   "mimetype": "text/x-python",
   "name": "python",
   "nbconvert_exporter": "python",
   "pygments_lexer": "ipython3",
   "version": "3.11.7"
  }
 },
 "nbformat": 4,
 "nbformat_minor": 5
}
