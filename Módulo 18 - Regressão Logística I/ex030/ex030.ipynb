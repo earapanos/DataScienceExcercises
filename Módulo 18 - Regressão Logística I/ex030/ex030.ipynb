{
 "cells": [
  {
   "cell_type": "markdown",
   "metadata": {},
   "source": [
    "[![ebac_logo-data_science.png](https://raw.githubusercontent.com/earapanos/DataScienceExcercises/refs/heads/main/ebac_logo-data_science.png)](https://github.com/earapanos/DataScienceExcercises/tree/main)\n",
    "<!-- <img src=\"https://raw.githubusercontent.com/earapanos/DataScienceExcercises/refs/heads/main/ebac_logo-data_science.png\" alt=\"ebac_logo-data_science\"> -->\n",
    "\n",
    "---\n",
    "\n",
    "<!-- # **Profissão: Cientista de Dados** -->\n",
    "### **Módulo 18** | Regressão Logística I | Exercício 30\n",
    "\n",
    "**Aluno:** [Eduardo Adriani Rapanos](https://www.linkedin.com/in/eduardo-rapanos/)<br>\n",
    "**Data:** 06 de junho de 2025.\n",
    "\n",
    "---"
   ]
  },
  {
   "cell_type": "markdown",
   "metadata": {},
   "source": [
    "# Regressão Logística I\n",
    "## Tarefa II\n",
    "\n",
    "Vamos trabalhar com a mesma base do exercício anterior, mas vamos aprofundar um pouco mais a nossa regressão."
   ]
  },
  {
   "cell_type": "code",
   "execution_count": 1,
   "metadata": {},
   "outputs": [],
   "source": [
    "import pandas as pd\n",
    "import seaborn as sns\n",
    "import matplotlib.pyplot as plt\n",
    "import numpy as np\n",
    "import statsmodels.formula.api as smf\n",
    "import requests"
   ]
  },
  {
   "cell_type": "code",
   "execution_count": 2,
   "metadata": {
    "tags": []
   },
   "outputs": [],
   "source": [
    "url = 'https://archive.ics.uci.edu/ml/machine-learning-databases/heart-disease/processed.cleveland.data'\n",
    "\n",
    "response = requests.get(url)\n",
    "if response.status_code == 200:\n",
    "    with open(\"processed_cleveland.data\", \"wb\") as f:\n",
    "        f.write(response.content)\n",
    "\n",
    "    df = pd.read_csv(\"processed_cleveland.data\", \n",
    "                     names=['age', 'sex', 'cp', 'trestbps', 'chol', 'fbs', 'restecg',\n",
    "                            'thalach', 'exang', 'oldpeak', 'slope', 'ca', 'thal', 'num'])\n",
    "else:\n",
    "    print(\"Erro ao baixar o arquivo:\", response.status_code)"
   ]
  },
  {
   "cell_type": "markdown",
   "metadata": {},
   "source": [
    "## Descritiva"
   ]
  },
  {
   "cell_type": "markdown",
   "metadata": {},
   "source": [
    "A descrição das variáveis está recortada abaixo:\n",
    "- age: idade do paciente em anos\n",
    "- sex: sexo (1 = male; 0 = female)  \n",
    "- cp: tipo de dor no peito\n",
    "  - 1: angina típica\n",
    "  - 2: angina atípica\n",
    "  - 3: dor não-angina\n",
    "  - 4: assintomático\n",
    "- trestbps: pressão sanguínea em repouso (em mm Hg na admissão ao hospital\n",
    "- chol: colesterol sérico em mg/dl\n",
    "- fbs: (açúcar no sangue em jejum > 120 mg/dl) (1 = True; 0 = False)\n",
    "- restecg: resultados eletrocardiográficos em repouso\n",
    "  - 0: normal\n",
    "  - 1: tendo anormalidade da onda ST-T (Inversões de onda T e / ou ST com elevação ou depressão de > 0.05 mV)\n",
    "  - 2: mostrando hipertrofia ventricular esquerda provável ou definitiva pelos critérios de Estes\n",
    "- thalach: frequência cardíaca máxima alcançada\n",
    "- exang: angina induzida por exercício(1 = sim; 0 = não)\n",
    "- oldpeak = Depressão de ST induzida por exercício em relação ao repouso\n",
    "- slope: Depressão de ST induzida por exercício em relação ao repouso\n",
    "  - 1: inclinação ascendente\n",
    "  - 2: estável\n",
    "  - 3: inclinação descendente\n",
    "- ca: número de vasos principais (0-3) coloridos por fluorosopia\n",
    "- thal: 3 = normal; 6 = defeito corrigido; 7 = defeito reversível\n",
    "- num: diagnóstico de doença cardíaga (status de doença angiográfica)"
   ]
  },
  {
   "cell_type": "code",
   "execution_count": 3,
   "metadata": {},
   "outputs": [
    {
     "name": "stdout",
     "output_type": "stream",
     "text": [
      "<class 'pandas.core.frame.DataFrame'>\n",
      "RangeIndex: 303 entries, 0 to 302\n",
      "Data columns (total 14 columns):\n",
      " #   Column    Non-Null Count  Dtype  \n",
      "---  ------    --------------  -----  \n",
      " 0   age       303 non-null    float64\n",
      " 1   sex       303 non-null    float64\n",
      " 2   cp        303 non-null    float64\n",
      " 3   trestbps  303 non-null    float64\n",
      " 4   chol      303 non-null    float64\n",
      " 5   fbs       303 non-null    float64\n",
      " 6   restecg   303 non-null    float64\n",
      " 7   thalach   303 non-null    float64\n",
      " 8   exang     303 non-null    float64\n",
      " 9   oldpeak   303 non-null    float64\n",
      " 10  slope     303 non-null    float64\n",
      " 11  ca        303 non-null    object \n",
      " 12  thal      303 non-null    object \n",
      " 13  num       303 non-null    int64  \n",
      "dtypes: float64(11), int64(1), object(2)\n",
      "memory usage: 33.3+ KB\n"
     ]
    }
   ],
   "source": [
    "df.info()"
   ]
  },
  {
   "cell_type": "code",
   "execution_count": 4,
   "metadata": {},
   "outputs": [],
   "source": [
    "df.replace('?', np.nan, inplace=True)  \n",
    "df[['ca', 'thal']] = df[['ca', 'thal']].astype(float)"
   ]
  },
  {
   "cell_type": "code",
   "execution_count": 5,
   "metadata": {},
   "outputs": [
    {
     "name": "stdout",
     "output_type": "stream",
     "text": [
      "<class 'pandas.core.frame.DataFrame'>\n",
      "RangeIndex: 303 entries, 0 to 302\n",
      "Data columns (total 14 columns):\n",
      " #   Column    Non-Null Count  Dtype  \n",
      "---  ------    --------------  -----  \n",
      " 0   age       303 non-null    float64\n",
      " 1   sex       303 non-null    float64\n",
      " 2   cp        303 non-null    float64\n",
      " 3   trestbps  303 non-null    float64\n",
      " 4   chol      303 non-null    float64\n",
      " 5   fbs       303 non-null    float64\n",
      " 6   restecg   303 non-null    float64\n",
      " 7   thalach   303 non-null    float64\n",
      " 8   exang     303 non-null    float64\n",
      " 9   oldpeak   303 non-null    float64\n",
      " 10  slope     303 non-null    float64\n",
      " 11  ca        299 non-null    float64\n",
      " 12  thal      301 non-null    float64\n",
      " 13  num       303 non-null    int64  \n",
      "dtypes: float64(13), int64(1)\n",
      "memory usage: 33.3 KB\n"
     ]
    }
   ],
   "source": [
    "df.info()"
   ]
  },
  {
   "cell_type": "code",
   "execution_count": 6,
   "metadata": {},
   "outputs": [
    {
     "name": "stderr",
     "output_type": "stream",
     "text": [
      "C:\\Users\\earap\\AppData\\Local\\Temp\\ipykernel_6460\\3879146777.py:1: FutureWarning: A value is trying to be set on a copy of a DataFrame or Series through chained assignment using an inplace method.\n",
      "The behavior will change in pandas 3.0. This inplace method will never work because the intermediate object on which we are setting values always behaves as a copy.\n",
      "\n",
      "For example, when doing 'df[col].method(value, inplace=True)', try using 'df.method({col: value}, inplace=True)' or df[col] = df[col].method(value) instead, to perform the operation inplace on the original object.\n",
      "\n",
      "\n",
      "  df['ca'].fillna(df['ca'].mode()[0], inplace=True)\n",
      "C:\\Users\\earap\\AppData\\Local\\Temp\\ipykernel_6460\\3879146777.py:2: FutureWarning: A value is trying to be set on a copy of a DataFrame or Series through chained assignment using an inplace method.\n",
      "The behavior will change in pandas 3.0. This inplace method will never work because the intermediate object on which we are setting values always behaves as a copy.\n",
      "\n",
      "For example, when doing 'df[col].method(value, inplace=True)', try using 'df.method({col: value}, inplace=True)' or df[col] = df[col].method(value) instead, to perform the operation inplace on the original object.\n",
      "\n",
      "\n",
      "  df['thal'].fillna(df['thal'].mode()[0], inplace=True)\n"
     ]
    }
   ],
   "source": [
    "df['ca'].fillna(df['ca'].mode()[0], inplace=True)\n",
    "df['thal'].fillna(df['thal'].mode()[0], inplace=True)"
   ]
  },
  {
   "cell_type": "code",
   "execution_count": 7,
   "metadata": {},
   "outputs": [],
   "source": [
    "df.dropna(inplace=True)"
   ]
  },
  {
   "cell_type": "code",
   "execution_count": 8,
   "metadata": {},
   "outputs": [
    {
     "name": "stdout",
     "output_type": "stream",
     "text": [
      "<class 'pandas.core.frame.DataFrame'>\n",
      "RangeIndex: 303 entries, 0 to 302\n",
      "Data columns (total 14 columns):\n",
      " #   Column    Non-Null Count  Dtype  \n",
      "---  ------    --------------  -----  \n",
      " 0   age       303 non-null    float64\n",
      " 1   sex       303 non-null    float64\n",
      " 2   cp        303 non-null    float64\n",
      " 3   trestbps  303 non-null    float64\n",
      " 4   chol      303 non-null    float64\n",
      " 5   fbs       303 non-null    float64\n",
      " 6   restecg   303 non-null    float64\n",
      " 7   thalach   303 non-null    float64\n",
      " 8   exang     303 non-null    float64\n",
      " 9   oldpeak   303 non-null    float64\n",
      " 10  slope     303 non-null    float64\n",
      " 11  ca        303 non-null    float64\n",
      " 12  thal      303 non-null    float64\n",
      " 13  num       303 non-null    int64  \n",
      "dtypes: float64(13), int64(1)\n",
      "memory usage: 33.3 KB\n"
     ]
    }
   ],
   "source": [
    "df.info()"
   ]
  },
  {
   "cell_type": "markdown",
   "metadata": {},
   "source": [
    "## 1. Considere o script que monta a análise bivariada que você fez na tarefa anterior. Transforme esse script em uma função, que deve:\n",
    "- Ter como parâmetros de entrada:\n",
    "    - Um *dataframe* contendo os dados a serem avaliados\n",
    "    - Um *string* contendo o nome da variável resposta\n",
    "    - Um *string* contendo o nome da variável explicativa\n",
    "- E deve retornar um *dataframe* com os dados da bivariada. \n",
    "**Monte** a mesma bivariada pelo menos três variáveis qualitativas do *data-frame*. Qual delas parece discriminar mais o risco?"
   ]
  },
  {
   "cell_type": "code",
   "execution_count": null,
   "metadata": {},
   "outputs": [],
   "source": [
    "def bivariada_qualitativa(df, resposta, explicativa):\n",
    "    tabela = pd.crosstab(df[explicativa], df[resposta], margins=True)\n",
    "    tabela['Proporcao_Evento'] = tabela[1] / tabela['All']\n",
    "    return tabela"
   ]
  },
  {
   "cell_type": "code",
   "execution_count": 11,
   "metadata": {},
   "outputs": [
    {
     "name": "stdout",
     "output_type": "stream",
     "text": [
      "Bivariada para sex:\n",
      "num    0   1   2   3   4  All  Proporcao_Evento\n",
      "sex                                            \n",
      "0.0   72   9   7   7   2   97          0.092784\n",
      "1.0   92  46  29  28  11  206          0.223301\n",
      "All  164  55  36  35  13  303          0.181518\n",
      "\n",
      "Bivariada para cp:\n",
      "num    0   1   2   3   4  All  Proporcao_Evento\n",
      "cp                                             \n",
      "1.0   16   5   1   0   1   23          0.217391\n",
      "2.0   41   6   1   2   0   50          0.120000\n",
      "3.0   68   9   4   4   1   86          0.104651\n",
      "4.0   39  35  30  29  11  144          0.243056\n",
      "All  164  55  36  35  13  303          0.181518\n",
      "\n",
      "Bivariada para exang:\n",
      "num      0   1   2   3   4  All  Proporcao_Evento\n",
      "exang                                            \n",
      "0.0    141  30  14  12   7  204          0.147059\n",
      "1.0     23  25  22  23   6   99          0.252525\n",
      "All    164  55  36  35  13  303          0.181518\n"
     ]
    }
   ],
   "source": [
    "bivariada_sex = bivariada_qualitativa(df, 'num', 'sex')\n",
    "bivariada_cp = bivariada_qualitativa(df, 'num', 'cp')\n",
    "bivariada_exang = bivariada_qualitativa(df, 'num', 'exang')\n",
    "\n",
    "print(\"Bivariada para sex:\")\n",
    "print(bivariada_sex)\n",
    "print(\"\\nBivariada para cp:\")\n",
    "print(bivariada_cp)\n",
    "print(\"\\nBivariada para exang:\")\n",
    "print(bivariada_exang)"
   ]
  },
  {
   "cell_type": "markdown",
   "metadata": {},
   "source": [
    "## 2. Monte uma função semelhante para categorizar variáveis quantitativas contínuas (com muitas categorias) como ```age```.  \n",
    "\n",
    "Além dos mesmos parâmetros da função anterior, defina mais um parâmetro como número de categorias que você deseja quebrar. Defina um valor '*default*' de 5 grupos para este parâmetro.  "
   ]
  },
  {
   "cell_type": "code",
   "execution_count": 12,
   "metadata": {},
   "outputs": [],
   "source": [
    "def categorizar_quantitativa(df, resposta, explicativa, num_grupos=5):\n",
    "    df[f'{explicativa}_cat'] = pd.qcut(df[explicativa], q=num_grupos, duplicates='drop')\n",
    "    tabela = bivariada_qualitativa(df, resposta, f'{explicativa}_cat')\n",
    "    \n",
    "    return tabela"
   ]
  },
  {
   "cell_type": "code",
   "execution_count": 13,
   "metadata": {},
   "outputs": [
    {
     "name": "stdout",
     "output_type": "stream",
     "text": [
      "Bivariada para age:\n",
      "num               0   1   2   3   4  All  Proporcao_Evento\n",
      "age_cat                                                   \n",
      "(28.999, 45.0]   47   7   4   4   1   63          0.111111\n",
      "(45.0, 53.0]     42  11   3   7   1   64          0.171875\n",
      "(53.0, 58.0]     32  15   8  12   4   71          0.211268\n",
      "(58.0, 62.0]     13  13  12   5   2   45          0.288889\n",
      "(62.0, 77.0]     30   9   9   7   5   60          0.150000\n",
      "All             164  55  36  35  13  303          0.181518\n"
     ]
    }
   ],
   "source": [
    "bivariada_age = categorizar_quantitativa(df, 'num', 'age')\n",
    "print(\"Bivariada para age:\")\n",
    "print(bivariada_age)"
   ]
  },
  {
   "cell_type": "markdown",
   "metadata": {},
   "source": [
    "## 3. Construa um modelo de regressão logística com as variáveis qualitativas: ```sex + cp +  trestbps``` e com a variável quantitativa ```age```.\n",
    "\n",
    "**Interprete os parâmetros.**"
   ]
  },
  {
   "cell_type": "code",
   "execution_count": 14,
   "metadata": {},
   "outputs": [],
   "source": [
    "df['num'] = df['num'].apply(lambda x: 1 if x > 0 else 0)"
   ]
  },
  {
   "cell_type": "code",
   "execution_count": null,
   "metadata": {},
   "outputs": [
    {
     "name": "stdout",
     "output_type": "stream",
     "text": [
      "Optimization terminated successfully.\n",
      "         Current function value: 0.510076\n",
      "         Iterations 6\n"
     ]
    }
   ],
   "source": [
    "modelo = smf.logit(formula='num ~ sex + cp + trestbps + age', data=df).fit()"
   ]
  },
  {
   "cell_type": "code",
   "execution_count": 16,
   "metadata": {},
   "outputs": [
    {
     "name": "stdout",
     "output_type": "stream",
     "text": [
      "                           Logit Regression Results                           \n",
      "==============================================================================\n",
      "Dep. Variable:                    num   No. Observations:                  303\n",
      "Model:                          Logit   Df Residuals:                      298\n",
      "Method:                           MLE   Df Model:                            4\n",
      "Date:                Thu, 20 Feb 2025   Pseudo R-squ.:                  0.2605\n",
      "Time:                        09:51:22   Log-Likelihood:                -154.55\n",
      "converged:                       True   LL-Null:                       -208.99\n",
      "Covariance Type:            nonrobust   LLR p-value:                 1.264e-22\n",
      "==============================================================================\n",
      "                 coef    std err          z      P>|z|      [0.025      0.975]\n",
      "------------------------------------------------------------------------------\n",
      "Intercept    -11.1167      1.608     -6.915      0.000     -14.267      -7.966\n",
      "sex            1.8021      0.331      5.444      0.000       1.153       2.451\n",
      "cp             1.1403      0.169      6.739      0.000       0.809       1.472\n",
      "trestbps       0.0214      0.008      2.600      0.009       0.005       0.037\n",
      "age            0.0582      0.017      3.348      0.001       0.024       0.092\n",
      "==============================================================================\n"
     ]
    }
   ],
   "source": [
    "print(modelo.summary())"
   ]
  },
  {
   "cell_type": "markdown",
   "metadata": {},
   "source": [
    "- Sexo: Homens têm um risco significativamente maior de doença cardíaca em comparação com mulheres.\n",
    "\n",
    "- Tipo de dor no peito (cp): Tipos mais graves de dor no peito estão associados a um maior risco de doença cardíaca.\n",
    "\n",
    "- Pressão sanguínea em repouso (trestbps): Pressões mais altas estão associadas a um aumento no risco de doença cardíaca.\n",
    "\n",
    "- Idade (age): Pessoas mais velhas têm um risco maior de doença cardíaca."
   ]
  },
  {
   "cell_type": "markdown",
   "metadata": {},
   "source": [
    "## 4. Avalie o seu modelo quanto a **calibragem**:\n",
    "- Calcule a probabilidade de evento predita segundo o seu modelo\n",
    "- Categorize essa probabilidade em G=5 grupos\n",
    "- Calcule a probabilidade de evento predita média por grupo\n",
    "- Calcule a taxa de eventos (média da variável indicadora de eventos) por grupo\n",
    "- Compare graficamente o valor eperado versus observado para a taxa de maus por grupo"
   ]
  },
  {
   "cell_type": "code",
   "execution_count": 18,
   "metadata": {},
   "outputs": [],
   "source": [
    "df['prob_predita'] = modelo.predict(df)"
   ]
  },
  {
   "cell_type": "code",
   "execution_count": 19,
   "metadata": {},
   "outputs": [],
   "source": [
    "df['grupo_prob'] = pd.qcut(df['prob_predita'], q=5, duplicates='drop')"
   ]
  },
  {
   "cell_type": "code",
   "execution_count": 20,
   "metadata": {},
   "outputs": [
    {
     "name": "stderr",
     "output_type": "stream",
     "text": [
      "C:\\Users\\earap\\AppData\\Local\\Temp\\ipykernel_6460\\836209086.py:1: FutureWarning: The default of observed=False is deprecated and will be changed to True in a future version of pandas. Pass observed=False to retain current behavior or observed=True to adopt the future default and silence this warning.\n",
      "  calibragem = df.groupby('grupo_prob').agg(\n"
     ]
    }
   ],
   "source": [
    "calibragem = df.groupby('grupo_prob').agg(\n",
    "    prob_media=('prob_predita', 'mean'),\n",
    "    taxa_eventos=('num', 'mean')\n",
    ").reset_index()"
   ]
  },
  {
   "cell_type": "code",
   "execution_count": 21,
   "metadata": {},
   "outputs": [
    {
     "data": {
      "image/png": "[encoded data removed]",
      "text/plain": [
       "<Figure size 1000x600 with 1 Axes>"
      ]
     },
     "metadata": {},
     "output_type": "display_data"
    }
   ],
   "source": [
    "plt.figure(figsize=(10, 6))\n",
    "plt.plot(calibragem['prob_media'], calibragem['taxa_eventos'], 'bo-')\n",
    "plt.plot([0, 1], [0, 1], 'r--')\n",
    "plt.xlabel('Probabilidade Predita Média')\n",
    "plt.ylabel('Taxa de Eventos Observada')\n",
    "plt.title('Calibragem do Modelo')\n",
    "plt.show()"
   ]
  },
  {
   "cell_type": "markdown",
   "metadata": {},
   "source": [
    "## 5. Avalie o seu modelo quanto a discriminação calculando acurácia, GINI e KS."
   ]
  },
  {
   "cell_type": "code",
   "execution_count": 22,
   "metadata": {},
   "outputs": [],
   "source": [
    "from sklearn.metrics import roc_auc_score, roc_curve, accuracy_score"
   ]
  },
  {
   "cell_type": "code",
   "execution_count": 24,
   "metadata": {},
   "outputs": [
    {
     "name": "stdout",
     "output_type": "stream",
     "text": [
      "Acurácia: 0.7788778877887789\n"
     ]
    }
   ],
   "source": [
    "df['predicao'] = df['prob_predita'].apply(lambda x: 1 if x > 0.5 else 0)\n",
    "acuracia = accuracy_score(df['num'], df['predicao'])\n",
    "print(f\"Acurácia: {acuracia}\")"
   ]
  },
  {
   "cell_type": "code",
   "execution_count": 25,
   "metadata": {},
   "outputs": [
    {
     "name": "stdout",
     "output_type": "stream",
     "text": [
      "AUC: 0.8311107211791542\n",
      "GINI: 0.6622214423583084\n"
     ]
    }
   ],
   "source": [
    "auc = roc_auc_score(df['num'], df['prob_predita'])\n",
    "gini = 2 * auc - 1\n",
    "print(f\"AUC: {auc}\")\n",
    "print(f\"GINI: {gini}\")"
   ]
  },
  {
   "cell_type": "code",
   "execution_count": 26,
   "metadata": {},
   "outputs": [
    {
     "name": "stdout",
     "output_type": "stream",
     "text": [
      "KS: 0.5840498333040884\n"
     ]
    }
   ],
   "source": [
    "fpr, tpr, thresholds = roc_curve(df['num'], df['prob_predita'])\n",
    "ks = np.max(tpr - fpr)\n",
    "print(f\"KS: {ks}\")"
   ]
  },
  {
   "cell_type": "markdown",
   "metadata": {},
   "source": [
    "## 6. tente melhorar o modelo obtido, por exemplo inserindo ou removendo variáveis.  \n",
    "Avalie as características do seu modelo (calibragem e acurácia)."
   ]
  },
  {
   "cell_type": "code",
   "execution_count": 27,
   "metadata": {},
   "outputs": [
    {
     "name": "stdout",
     "output_type": "stream",
     "text": [
      "Optimization terminated successfully.\n",
      "         Current function value: 0.505812\n",
      "         Iterations 6\n"
     ]
    }
   ],
   "source": [
    "modelo_melhorado = smf.logit(formula='num ~ sex + cp + trestbps + age + chol', data=df).fit()"
   ]
  },
  {
   "cell_type": "code",
   "execution_count": 29,
   "metadata": {},
   "outputs": [
    {
     "name": "stdout",
     "output_type": "stream",
     "text": [
      "                           Logit Regression Results                           \n",
      "==============================================================================\n",
      "Dep. Variable:                    num   No. Observations:                  303\n",
      "Model:                          Logit   Df Residuals:                      297\n",
      "Method:                           MLE   Df Model:                            5\n",
      "Date:                Thu, 20 Feb 2025   Pseudo R-squ.:                  0.2667\n",
      "Time:                        09:53:45   Log-Likelihood:                -153.26\n",
      "converged:                       True   LL-Null:                       -208.99\n",
      "Covariance Type:            nonrobust   LLR p-value:                 2.013e-22\n",
      "==============================================================================\n",
      "                 coef    std err          z      P>|z|      [0.025      0.975]\n",
      "------------------------------------------------------------------------------\n",
      "Intercept    -12.0947      1.754     -6.896      0.000     -15.532      -8.657\n",
      "sex            1.9355      0.348      5.570      0.000       1.254       2.617\n",
      "cp             1.1417      0.170      6.708      0.000       0.808       1.475\n",
      "trestbps       0.0208      0.008      2.520      0.012       0.005       0.037\n",
      "age            0.0556      0.018      3.144      0.002       0.021       0.090\n",
      "chol           0.0044      0.003      1.608      0.108      -0.001       0.010\n",
      "==============================================================================\n"
     ]
    }
   ],
   "source": [
    "print(modelo_melhorado.summary())"
   ]
  },
  {
   "cell_type": "code",
   "execution_count": 30,
   "metadata": {},
   "outputs": [],
   "source": [
    "df['prob_predita_melhorada'] = modelo_melhorado.predict(df)\n",
    "df['grupo_prob_melhorado'] = pd.qcut(df['prob_predita_melhorada'], q=5, duplicates='drop')"
   ]
  },
  {
   "cell_type": "code",
   "execution_count": 31,
   "metadata": {},
   "outputs": [
    {
     "name": "stdout",
     "output_type": "stream",
     "text": [
      "            grupo_prob_melhorado  prob_media  taxa_eventos\n",
      "0  (0.009600000000000001, 0.142]    0.070365      0.114754\n",
      "1                 (0.142, 0.335]    0.251632      0.183333\n",
      "2                 (0.335, 0.556]    0.455085      0.491803\n",
      "3                 (0.556, 0.774]    0.676432      0.683333\n",
      "4                 (0.774, 0.938]    0.840388      0.819672\n"
     ]
    },
    {
     "name": "stderr",
     "output_type": "stream",
     "text": [
      "C:\\Users\\earap\\AppData\\Local\\Temp\\ipykernel_6460\\3174763041.py:1: FutureWarning: The default of observed=False is deprecated and will be changed to True in a future version of pandas. Pass observed=False to retain current behavior or observed=True to adopt the future default and silence this warning.\n",
      "  calibragem_melhorada = df.groupby('grupo_prob_melhorado').agg(\n"
     ]
    }
   ],
   "source": [
    "calibragem_melhorada = df.groupby('grupo_prob_melhorado').agg(\n",
    "    prob_media=('prob_predita_melhorada', 'mean'),\n",
    "    taxa_eventos=('num', 'mean')\n",
    ").reset_index()\n",
    "\n",
    "print(calibragem_melhorada)"
   ]
  },
  {
   "cell_type": "code",
   "execution_count": 32,
   "metadata": {},
   "outputs": [
    {
     "data": {
      "image/png": "[encoded data removed]",
      "text/plain": [
       "<Figure size 1000x600 with 1 Axes>"
      ]
     },
     "metadata": {},
     "output_type": "display_data"
    }
   ],
   "source": [
    "plt.figure(figsize=(10, 6))\n",
    "plt.plot(calibragem_melhorada['prob_media'], calibragem_melhorada['taxa_eventos'], 'bo-')\n",
    "plt.plot([0, 1], [0, 1], 'r--')\n",
    "plt.xlabel('Probabilidade Predita Média')\n",
    "plt.ylabel('Taxa de Eventos Observada')\n",
    "plt.title('Calibragem do Modelo Melhorado')\n",
    "plt.show()"
   ]
  },
  {
   "cell_type": "code",
   "execution_count": 33,
   "metadata": {},
   "outputs": [
    {
     "name": "stdout",
     "output_type": "stream",
     "text": [
      "Acurácia Melhorada: 0.7755775577557755\n",
      "AUC Melhorado: 0.8346639761361642\n",
      "GINI Melhorado: 0.6693279522723283\n",
      "KS Melhorado: 0.5729513949815758\n"
     ]
    }
   ],
   "source": [
    "df['predicao_melhorada'] = df['prob_predita_melhorada'].apply(lambda x: 1 if x > 0.5 else 0)\n",
    "acuracia_melhorada = accuracy_score(df['num'], df['predicao_melhorada'])\n",
    "auc_melhorado = roc_auc_score(df['num'], df['prob_predita_melhorada'])\n",
    "gini_melhorado = 2 * auc_melhorado - 1\n",
    "fpr_melhorado, tpr_melhorado, thresholds_melhorado = roc_curve(df['num'], df['prob_predita_melhorada'])\n",
    "ks_melhorado = np.max(tpr_melhorado - fpr_melhorado)\n",
    "\n",
    "print(f\"Acurácia Melhorada: {acuracia_melhorada}\")\n",
    "print(f\"AUC Melhorado: {auc_melhorado}\")\n",
    "print(f\"GINI Melhorado: {gini_melhorado}\")\n",
    "print(f\"KS Melhorado: {ks_melhorado}\")"
   ]
  }
 ],
 "metadata": {
  "kernelspec": {
   "display_name": "base",
   "language": "python",
   "name": "python3"
  },
  "language_info": {
   "codemirror_mode": {
    "name": "ipython",
    "version": 3
   },
   "file_extension": ".py",
   "mimetype": "text/x-python",
   "name": "python",
   "nbconvert_exporter": "python",
   "pygments_lexer": "ipython3",
   "version": "3.11.7"
  }
 },
 "nbformat": 4,
 "nbformat_minor": 4
}
